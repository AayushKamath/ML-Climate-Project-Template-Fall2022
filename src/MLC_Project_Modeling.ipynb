{
  "nbformat": 4,
  "nbformat_minor": 0,
  "metadata": {
    "colab": {
      "provenance": []
    },
    "kernelspec": {
      "name": "python3",
      "display_name": "Python 3"
    },
    "language_info": {
      "name": "python"
    }
  },
  "cells": [
    {
      "cell_type": "markdown",
      "source": [
        "### Name: Aayush Kamath <br> UNI: ak4808"
      ],
      "metadata": {
        "id": "cVteWnBCLxEc"
      }
    },
    {
      "cell_type": "markdown",
      "source": [
        "### Modeling"
      ],
      "metadata": {
        "id": "DJI29hu3bxaF"
      }
    },
    {
      "cell_type": "code",
      "execution_count": 1,
      "metadata": {
        "id": "sIjLG_jZbttC"
      },
      "outputs": [],
      "source": [
        "import numpy as np\n",
        "import pandas as pd\n",
        "import matplotlib.pyplot as plt\n",
        "import seaborn as sns"
      ]
    },
    {
      "cell_type": "code",
      "source": [
        "## YOUR CODE HERE\n",
        "from google.colab import drive\n",
        "drive.mount(\"/content/gdrive\")"
      ],
      "metadata": {
        "colab": {
          "base_uri": "https://localhost:8080/"
        },
        "id": "s3DMm_5fb4yX",
        "outputId": "b9360c04-c55a-4c04-81ef-3fbe4eba024d"
      },
      "execution_count": 2,
      "outputs": [
        {
          "output_type": "stream",
          "name": "stdout",
          "text": [
            "Mounted at /content/gdrive\n"
          ]
        }
      ]
    },
    {
      "cell_type": "code",
      "source": [
        "df = pd.read_excel('/content/gdrive/My Drive/ML_Climate/Data/Projected_impacts_datasheet.xlsx')\n",
        "df.head()"
      ],
      "metadata": {
        "colab": {
          "base_uri": "https://localhost:8080/",
          "height": 456
        },
        "id": "tUl-z0dqb6n_",
        "outputId": "1f6b728f-817f-4321-aa33-82892eb2050e"
      },
      "execution_count": 3,
      "outputs": [
        {
          "output_type": "execute_result",
          "data": {
            "text/plain": [
              "   ID Ref No            Source      Scale   Crop        Country  \\\n",
              "0   1       1  SCOPUS-NewSearch  Regional  Maize       Pakistan   \n",
              "1   2       1  SCOPUS-NewSearch  Regional  Maize       Pakistan   \n",
              "2   3       2  SCOPUS-NewSearch  Regional  Maize  United States   \n",
              "3   4       2  SCOPUS-NewSearch  Regional  Maize  United States   \n",
              "4   5       3  SCOPUS-NewSearch  Regional  Maize          China   \n",
              "\n",
              "  Site(location)         Region  latitude  longitude  ...  Planting time  \\\n",
              "0         Punjub           Asia   31.4167    73.0911  ...             No   \n",
              "1         Punjub           Asia   31.4167    73.0911  ...            Yes   \n",
              "2        Wyoming  North America   43.2705  -104.1080  ...             No   \n",
              "3        Wyoming  North America   43.2705  -104.1080  ...             No   \n",
              "4          Hubei           Asia   30.0000   110.0000  ...             No   \n",
              "\n",
              "   Tillage  Others Adaptation Adaptation type                Reference  \\\n",
              "0       No      No         No              No       Ahmad et al., 2020   \n",
              "1       No     Yes        Yes        Combined       Ahmad et al., 2020   \n",
              "2       No      No         No              No  Burchfield et al., 2020   \n",
              "3       No     Yes        Yes          Others  Burchfield et al., 2020   \n",
              "4       No      No         No              No        Chen et al., 2020   \n",
              "\n",
              "                               doi  Publication year  \\\n",
              "0        10.1016/j.eja.2020.126040              2020   \n",
              "1        10.1016/j.eja.2020.126040              2020   \n",
              "2       10.1007/s10584-019-02567-7              2020   \n",
              "3       10.1007/s10584-019-02567-7              2020   \n",
              "4  10.1016/j.agrformet.2019.107867              2020   \n",
              "\n",
              "   Note1 \\n(* = corrected by HW)   \\\n",
              "0                             NaN   \n",
              "1                             NaN   \n",
              "2                             NaN   \n",
              "3                             NaN   \n",
              "4                             NaN   \n",
              "\n",
              "   Note2 \\n(* = Local temperature is  estimated )  \n",
              "0                                             NaN  \n",
              "1                                             NaN  \n",
              "2                                               *  \n",
              "3                                               *  \n",
              "4                                             NaN  \n",
              "\n",
              "[5 rows x 40 columns]"
            ],
            "text/html": [
              "\n",
              "  <div id=\"df-0ae5b7a1-895a-4ec7-9cef-d1da8a60895c\">\n",
              "    <div class=\"colab-df-container\">\n",
              "      <div>\n",
              "<style scoped>\n",
              "    .dataframe tbody tr th:only-of-type {\n",
              "        vertical-align: middle;\n",
              "    }\n",
              "\n",
              "    .dataframe tbody tr th {\n",
              "        vertical-align: top;\n",
              "    }\n",
              "\n",
              "    .dataframe thead th {\n",
              "        text-align: right;\n",
              "    }\n",
              "</style>\n",
              "<table border=\"1\" class=\"dataframe\">\n",
              "  <thead>\n",
              "    <tr style=\"text-align: right;\">\n",
              "      <th></th>\n",
              "      <th>ID</th>\n",
              "      <th>Ref No</th>\n",
              "      <th>Source</th>\n",
              "      <th>Scale</th>\n",
              "      <th>Crop</th>\n",
              "      <th>Country</th>\n",
              "      <th>Site(location)</th>\n",
              "      <th>Region</th>\n",
              "      <th>latitude</th>\n",
              "      <th>longitude</th>\n",
              "      <th>...</th>\n",
              "      <th>Planting time</th>\n",
              "      <th>Tillage</th>\n",
              "      <th>Others</th>\n",
              "      <th>Adaptation</th>\n",
              "      <th>Adaptation type</th>\n",
              "      <th>Reference</th>\n",
              "      <th>doi</th>\n",
              "      <th>Publication year</th>\n",
              "      <th>Note1 \\n(* = corrected by HW)</th>\n",
              "      <th>Note2 \\n(* = Local temperature is  estimated )</th>\n",
              "    </tr>\n",
              "  </thead>\n",
              "  <tbody>\n",
              "    <tr>\n",
              "      <th>0</th>\n",
              "      <td>1</td>\n",
              "      <td>1</td>\n",
              "      <td>SCOPUS-NewSearch</td>\n",
              "      <td>Regional</td>\n",
              "      <td>Maize</td>\n",
              "      <td>Pakistan</td>\n",
              "      <td>Punjub</td>\n",
              "      <td>Asia</td>\n",
              "      <td>31.4167</td>\n",
              "      <td>73.0911</td>\n",
              "      <td>...</td>\n",
              "      <td>No</td>\n",
              "      <td>No</td>\n",
              "      <td>No</td>\n",
              "      <td>No</td>\n",
              "      <td>No</td>\n",
              "      <td>Ahmad et al., 2020</td>\n",
              "      <td>10.1016/j.eja.2020.126040</td>\n",
              "      <td>2020</td>\n",
              "      <td>NaN</td>\n",
              "      <td>NaN</td>\n",
              "    </tr>\n",
              "    <tr>\n",
              "      <th>1</th>\n",
              "      <td>2</td>\n",
              "      <td>1</td>\n",
              "      <td>SCOPUS-NewSearch</td>\n",
              "      <td>Regional</td>\n",
              "      <td>Maize</td>\n",
              "      <td>Pakistan</td>\n",
              "      <td>Punjub</td>\n",
              "      <td>Asia</td>\n",
              "      <td>31.4167</td>\n",
              "      <td>73.0911</td>\n",
              "      <td>...</td>\n",
              "      <td>Yes</td>\n",
              "      <td>No</td>\n",
              "      <td>Yes</td>\n",
              "      <td>Yes</td>\n",
              "      <td>Combined</td>\n",
              "      <td>Ahmad et al., 2020</td>\n",
              "      <td>10.1016/j.eja.2020.126040</td>\n",
              "      <td>2020</td>\n",
              "      <td>NaN</td>\n",
              "      <td>NaN</td>\n",
              "    </tr>\n",
              "    <tr>\n",
              "      <th>2</th>\n",
              "      <td>3</td>\n",
              "      <td>2</td>\n",
              "      <td>SCOPUS-NewSearch</td>\n",
              "      <td>Regional</td>\n",
              "      <td>Maize</td>\n",
              "      <td>United States</td>\n",
              "      <td>Wyoming</td>\n",
              "      <td>North America</td>\n",
              "      <td>43.2705</td>\n",
              "      <td>-104.1080</td>\n",
              "      <td>...</td>\n",
              "      <td>No</td>\n",
              "      <td>No</td>\n",
              "      <td>No</td>\n",
              "      <td>No</td>\n",
              "      <td>No</td>\n",
              "      <td>Burchfield et al., 2020</td>\n",
              "      <td>10.1007/s10584-019-02567-7</td>\n",
              "      <td>2020</td>\n",
              "      <td>NaN</td>\n",
              "      <td>*</td>\n",
              "    </tr>\n",
              "    <tr>\n",
              "      <th>3</th>\n",
              "      <td>4</td>\n",
              "      <td>2</td>\n",
              "      <td>SCOPUS-NewSearch</td>\n",
              "      <td>Regional</td>\n",
              "      <td>Maize</td>\n",
              "      <td>United States</td>\n",
              "      <td>Wyoming</td>\n",
              "      <td>North America</td>\n",
              "      <td>43.2705</td>\n",
              "      <td>-104.1080</td>\n",
              "      <td>...</td>\n",
              "      <td>No</td>\n",
              "      <td>No</td>\n",
              "      <td>Yes</td>\n",
              "      <td>Yes</td>\n",
              "      <td>Others</td>\n",
              "      <td>Burchfield et al., 2020</td>\n",
              "      <td>10.1007/s10584-019-02567-7</td>\n",
              "      <td>2020</td>\n",
              "      <td>NaN</td>\n",
              "      <td>*</td>\n",
              "    </tr>\n",
              "    <tr>\n",
              "      <th>4</th>\n",
              "      <td>5</td>\n",
              "      <td>3</td>\n",
              "      <td>SCOPUS-NewSearch</td>\n",
              "      <td>Regional</td>\n",
              "      <td>Maize</td>\n",
              "      <td>China</td>\n",
              "      <td>Hubei</td>\n",
              "      <td>Asia</td>\n",
              "      <td>30.0000</td>\n",
              "      <td>110.0000</td>\n",
              "      <td>...</td>\n",
              "      <td>No</td>\n",
              "      <td>No</td>\n",
              "      <td>No</td>\n",
              "      <td>No</td>\n",
              "      <td>No</td>\n",
              "      <td>Chen et al., 2020</td>\n",
              "      <td>10.1016/j.agrformet.2019.107867</td>\n",
              "      <td>2020</td>\n",
              "      <td>NaN</td>\n",
              "      <td>NaN</td>\n",
              "    </tr>\n",
              "  </tbody>\n",
              "</table>\n",
              "<p>5 rows × 40 columns</p>\n",
              "</div>\n",
              "      <button class=\"colab-df-convert\" onclick=\"convertToInteractive('df-0ae5b7a1-895a-4ec7-9cef-d1da8a60895c')\"\n",
              "              title=\"Convert this dataframe to an interactive table.\"\n",
              "              style=\"display:none;\">\n",
              "        \n",
              "  <svg xmlns=\"http://www.w3.org/2000/svg\" height=\"24px\"viewBox=\"0 0 24 24\"\n",
              "       width=\"24px\">\n",
              "    <path d=\"M0 0h24v24H0V0z\" fill=\"none\"/>\n",
              "    <path d=\"M18.56 5.44l.94 2.06.94-2.06 2.06-.94-2.06-.94-.94-2.06-.94 2.06-2.06.94zm-11 1L8.5 8.5l.94-2.06 2.06-.94-2.06-.94L8.5 2.5l-.94 2.06-2.06.94zm10 10l.94 2.06.94-2.06 2.06-.94-2.06-.94-.94-2.06-.94 2.06-2.06.94z\"/><path d=\"M17.41 7.96l-1.37-1.37c-.4-.4-.92-.59-1.43-.59-.52 0-1.04.2-1.43.59L10.3 9.45l-7.72 7.72c-.78.78-.78 2.05 0 2.83L4 21.41c.39.39.9.59 1.41.59.51 0 1.02-.2 1.41-.59l7.78-7.78 2.81-2.81c.8-.78.8-2.07 0-2.86zM5.41 20L4 18.59l7.72-7.72 1.47 1.35L5.41 20z\"/>\n",
              "  </svg>\n",
              "      </button>\n",
              "      \n",
              "  <style>\n",
              "    .colab-df-container {\n",
              "      display:flex;\n",
              "      flex-wrap:wrap;\n",
              "      gap: 12px;\n",
              "    }\n",
              "\n",
              "    .colab-df-convert {\n",
              "      background-color: #E8F0FE;\n",
              "      border: none;\n",
              "      border-radius: 50%;\n",
              "      cursor: pointer;\n",
              "      display: none;\n",
              "      fill: #1967D2;\n",
              "      height: 32px;\n",
              "      padding: 0 0 0 0;\n",
              "      width: 32px;\n",
              "    }\n",
              "\n",
              "    .colab-df-convert:hover {\n",
              "      background-color: #E2EBFA;\n",
              "      box-shadow: 0px 1px 2px rgba(60, 64, 67, 0.3), 0px 1px 3px 1px rgba(60, 64, 67, 0.15);\n",
              "      fill: #174EA6;\n",
              "    }\n",
              "\n",
              "    [theme=dark] .colab-df-convert {\n",
              "      background-color: #3B4455;\n",
              "      fill: #D2E3FC;\n",
              "    }\n",
              "\n",
              "    [theme=dark] .colab-df-convert:hover {\n",
              "      background-color: #434B5C;\n",
              "      box-shadow: 0px 1px 3px 1px rgba(0, 0, 0, 0.15);\n",
              "      filter: drop-shadow(0px 1px 2px rgba(0, 0, 0, 0.3));\n",
              "      fill: #FFFFFF;\n",
              "    }\n",
              "  </style>\n",
              "\n",
              "      <script>\n",
              "        const buttonEl =\n",
              "          document.querySelector('#df-0ae5b7a1-895a-4ec7-9cef-d1da8a60895c button.colab-df-convert');\n",
              "        buttonEl.style.display =\n",
              "          google.colab.kernel.accessAllowed ? 'block' : 'none';\n",
              "\n",
              "        async function convertToInteractive(key) {\n",
              "          const element = document.querySelector('#df-0ae5b7a1-895a-4ec7-9cef-d1da8a60895c');\n",
              "          const dataTable =\n",
              "            await google.colab.kernel.invokeFunction('convertToInteractive',\n",
              "                                                     [key], {});\n",
              "          if (!dataTable) return;\n",
              "\n",
              "          const docLinkHtml = 'Like what you see? Visit the ' +\n",
              "            '<a target=\"_blank\" href=https://colab.research.google.com/notebooks/data_table.ipynb>data table notebook</a>'\n",
              "            + ' to learn more about interactive tables.';\n",
              "          element.innerHTML = '';\n",
              "          dataTable['output_type'] = 'display_data';\n",
              "          await google.colab.output.renderOutput(dataTable, element);\n",
              "          const docLink = document.createElement('div');\n",
              "          docLink.innerHTML = docLinkHtml;\n",
              "          element.appendChild(docLink);\n",
              "        }\n",
              "      </script>\n",
              "    </div>\n",
              "  </div>\n",
              "  "
            ]
          },
          "metadata": {},
          "execution_count": 3
        }
      ]
    },
    {
      "cell_type": "code",
      "source": [
        "num = [4] + [i for i in range(7,14)] + [i for i in range(15,20)] + [22] + [i for i in range(24,33)]\n",
        "\n",
        "df_crop = df.iloc[:, num]\n",
        "df_crop.head()"
      ],
      "metadata": {
        "colab": {
          "base_uri": "https://localhost:8080/",
          "height": 386
        },
        "id": "RiJp7cMJb-4S",
        "outputId": "6fc4a99c-cb33-4ac6-83e5-4f870a4ec2a3"
      },
      "execution_count": 4,
      "outputs": [
        {
          "output_type": "execute_result",
          "data": {
            "text/plain": [
              "    Crop         Region  latitude  longitude  Current Average Temperature (℃)  \\\n",
              "0  Maize           Asia   31.4167    73.0911                          25.4543   \n",
              "1  Maize           Asia   31.4167    73.0911                          25.4543   \n",
              "2  Maize  North America   43.2705  -104.1080                          10.1912   \n",
              "3  Maize  North America   43.2705  -104.1080                          10.1912   \n",
              "4  Maize           Asia   30.0000   110.0000                          14.6521   \n",
              "\n",
              "   Future_Mid-point  Baseline_Mid-point Time slice Scenario source  \\\n",
              "0              2054                1995         MC           CMIP5   \n",
              "1              2054                1995         MC           CMIP5   \n",
              "2              2055                1998         MC           CMIP5   \n",
              "3              2055                1998         MC           CMIP5   \n",
              "4              2050                1983         MC           CMIP5   \n",
              "\n",
              "   Local delta T   ...  Climate impacts per ℃ (%)  CO2    CO2 ppm  Fertiliser  \\\n",
              "0            2.94  ...                  -6.671298  Yes  564.31311          No   \n",
              "1            2.94  ...                   4.765213  Yes  564.31311         Yes   \n",
              "2             NaN  ...                  -8.868124  Yes  570.51669          No   \n",
              "3             NaN  ...                   9.897460  Yes  570.51669          No   \n",
              "4            1.15  ...                  -4.675325  Yes  486.53532          No   \n",
              "\n",
              "  Irrigation  Cultivar Soil organic matter management Planting time Tillage  \\\n",
              "0         No        No                             No            No      No   \n",
              "1         No       Yes                             No           Yes      No   \n",
              "2         No        No                             No            No      No   \n",
              "3         No        No                             No            No      No   \n",
              "4         No        No                             No            No      No   \n",
              "\n",
              "  Others  \n",
              "0     No  \n",
              "1    Yes  \n",
              "2     No  \n",
              "3    Yes  \n",
              "4     No  \n",
              "\n",
              "[5 rows x 23 columns]"
            ],
            "text/html": [
              "\n",
              "  <div id=\"df-22da33e4-c4d4-470f-9402-26bd953792dd\">\n",
              "    <div class=\"colab-df-container\">\n",
              "      <div>\n",
              "<style scoped>\n",
              "    .dataframe tbody tr th:only-of-type {\n",
              "        vertical-align: middle;\n",
              "    }\n",
              "\n",
              "    .dataframe tbody tr th {\n",
              "        vertical-align: top;\n",
              "    }\n",
              "\n",
              "    .dataframe thead th {\n",
              "        text-align: right;\n",
              "    }\n",
              "</style>\n",
              "<table border=\"1\" class=\"dataframe\">\n",
              "  <thead>\n",
              "    <tr style=\"text-align: right;\">\n",
              "      <th></th>\n",
              "      <th>Crop</th>\n",
              "      <th>Region</th>\n",
              "      <th>latitude</th>\n",
              "      <th>longitude</th>\n",
              "      <th>Current Average Temperature (℃)</th>\n",
              "      <th>Future_Mid-point</th>\n",
              "      <th>Baseline_Mid-point</th>\n",
              "      <th>Time slice</th>\n",
              "      <th>Scenario source</th>\n",
              "      <th>Local delta T</th>\n",
              "      <th>...</th>\n",
              "      <th>Climate impacts per ℃ (%)</th>\n",
              "      <th>CO2</th>\n",
              "      <th>CO2 ppm</th>\n",
              "      <th>Fertiliser</th>\n",
              "      <th>Irrigation</th>\n",
              "      <th>Cultivar</th>\n",
              "      <th>Soil organic matter management</th>\n",
              "      <th>Planting time</th>\n",
              "      <th>Tillage</th>\n",
              "      <th>Others</th>\n",
              "    </tr>\n",
              "  </thead>\n",
              "  <tbody>\n",
              "    <tr>\n",
              "      <th>0</th>\n",
              "      <td>Maize</td>\n",
              "      <td>Asia</td>\n",
              "      <td>31.4167</td>\n",
              "      <td>73.0911</td>\n",
              "      <td>25.4543</td>\n",
              "      <td>2054</td>\n",
              "      <td>1995</td>\n",
              "      <td>MC</td>\n",
              "      <td>CMIP5</td>\n",
              "      <td>2.94</td>\n",
              "      <td>...</td>\n",
              "      <td>-6.671298</td>\n",
              "      <td>Yes</td>\n",
              "      <td>564.31311</td>\n",
              "      <td>No</td>\n",
              "      <td>No</td>\n",
              "      <td>No</td>\n",
              "      <td>No</td>\n",
              "      <td>No</td>\n",
              "      <td>No</td>\n",
              "      <td>No</td>\n",
              "    </tr>\n",
              "    <tr>\n",
              "      <th>1</th>\n",
              "      <td>Maize</td>\n",
              "      <td>Asia</td>\n",
              "      <td>31.4167</td>\n",
              "      <td>73.0911</td>\n",
              "      <td>25.4543</td>\n",
              "      <td>2054</td>\n",
              "      <td>1995</td>\n",
              "      <td>MC</td>\n",
              "      <td>CMIP5</td>\n",
              "      <td>2.94</td>\n",
              "      <td>...</td>\n",
              "      <td>4.765213</td>\n",
              "      <td>Yes</td>\n",
              "      <td>564.31311</td>\n",
              "      <td>Yes</td>\n",
              "      <td>No</td>\n",
              "      <td>Yes</td>\n",
              "      <td>No</td>\n",
              "      <td>Yes</td>\n",
              "      <td>No</td>\n",
              "      <td>Yes</td>\n",
              "    </tr>\n",
              "    <tr>\n",
              "      <th>2</th>\n",
              "      <td>Maize</td>\n",
              "      <td>North America</td>\n",
              "      <td>43.2705</td>\n",
              "      <td>-104.1080</td>\n",
              "      <td>10.1912</td>\n",
              "      <td>2055</td>\n",
              "      <td>1998</td>\n",
              "      <td>MC</td>\n",
              "      <td>CMIP5</td>\n",
              "      <td>NaN</td>\n",
              "      <td>...</td>\n",
              "      <td>-8.868124</td>\n",
              "      <td>Yes</td>\n",
              "      <td>570.51669</td>\n",
              "      <td>No</td>\n",
              "      <td>No</td>\n",
              "      <td>No</td>\n",
              "      <td>No</td>\n",
              "      <td>No</td>\n",
              "      <td>No</td>\n",
              "      <td>No</td>\n",
              "    </tr>\n",
              "    <tr>\n",
              "      <th>3</th>\n",
              "      <td>Maize</td>\n",
              "      <td>North America</td>\n",
              "      <td>43.2705</td>\n",
              "      <td>-104.1080</td>\n",
              "      <td>10.1912</td>\n",
              "      <td>2055</td>\n",
              "      <td>1998</td>\n",
              "      <td>MC</td>\n",
              "      <td>CMIP5</td>\n",
              "      <td>NaN</td>\n",
              "      <td>...</td>\n",
              "      <td>9.897460</td>\n",
              "      <td>Yes</td>\n",
              "      <td>570.51669</td>\n",
              "      <td>No</td>\n",
              "      <td>No</td>\n",
              "      <td>No</td>\n",
              "      <td>No</td>\n",
              "      <td>No</td>\n",
              "      <td>No</td>\n",
              "      <td>Yes</td>\n",
              "    </tr>\n",
              "    <tr>\n",
              "      <th>4</th>\n",
              "      <td>Maize</td>\n",
              "      <td>Asia</td>\n",
              "      <td>30.0000</td>\n",
              "      <td>110.0000</td>\n",
              "      <td>14.6521</td>\n",
              "      <td>2050</td>\n",
              "      <td>1983</td>\n",
              "      <td>MC</td>\n",
              "      <td>CMIP5</td>\n",
              "      <td>1.15</td>\n",
              "      <td>...</td>\n",
              "      <td>-4.675325</td>\n",
              "      <td>Yes</td>\n",
              "      <td>486.53532</td>\n",
              "      <td>No</td>\n",
              "      <td>No</td>\n",
              "      <td>No</td>\n",
              "      <td>No</td>\n",
              "      <td>No</td>\n",
              "      <td>No</td>\n",
              "      <td>No</td>\n",
              "    </tr>\n",
              "  </tbody>\n",
              "</table>\n",
              "<p>5 rows × 23 columns</p>\n",
              "</div>\n",
              "      <button class=\"colab-df-convert\" onclick=\"convertToInteractive('df-22da33e4-c4d4-470f-9402-26bd953792dd')\"\n",
              "              title=\"Convert this dataframe to an interactive table.\"\n",
              "              style=\"display:none;\">\n",
              "        \n",
              "  <svg xmlns=\"http://www.w3.org/2000/svg\" height=\"24px\"viewBox=\"0 0 24 24\"\n",
              "       width=\"24px\">\n",
              "    <path d=\"M0 0h24v24H0V0z\" fill=\"none\"/>\n",
              "    <path d=\"M18.56 5.44l.94 2.06.94-2.06 2.06-.94-2.06-.94-.94-2.06-.94 2.06-2.06.94zm-11 1L8.5 8.5l.94-2.06 2.06-.94-2.06-.94L8.5 2.5l-.94 2.06-2.06.94zm10 10l.94 2.06.94-2.06 2.06-.94-2.06-.94-.94-2.06-.94 2.06-2.06.94z\"/><path d=\"M17.41 7.96l-1.37-1.37c-.4-.4-.92-.59-1.43-.59-.52 0-1.04.2-1.43.59L10.3 9.45l-7.72 7.72c-.78.78-.78 2.05 0 2.83L4 21.41c.39.39.9.59 1.41.59.51 0 1.02-.2 1.41-.59l7.78-7.78 2.81-2.81c.8-.78.8-2.07 0-2.86zM5.41 20L4 18.59l7.72-7.72 1.47 1.35L5.41 20z\"/>\n",
              "  </svg>\n",
              "      </button>\n",
              "      \n",
              "  <style>\n",
              "    .colab-df-container {\n",
              "      display:flex;\n",
              "      flex-wrap:wrap;\n",
              "      gap: 12px;\n",
              "    }\n",
              "\n",
              "    .colab-df-convert {\n",
              "      background-color: #E8F0FE;\n",
              "      border: none;\n",
              "      border-radius: 50%;\n",
              "      cursor: pointer;\n",
              "      display: none;\n",
              "      fill: #1967D2;\n",
              "      height: 32px;\n",
              "      padding: 0 0 0 0;\n",
              "      width: 32px;\n",
              "    }\n",
              "\n",
              "    .colab-df-convert:hover {\n",
              "      background-color: #E2EBFA;\n",
              "      box-shadow: 0px 1px 2px rgba(60, 64, 67, 0.3), 0px 1px 3px 1px rgba(60, 64, 67, 0.15);\n",
              "      fill: #174EA6;\n",
              "    }\n",
              "\n",
              "    [theme=dark] .colab-df-convert {\n",
              "      background-color: #3B4455;\n",
              "      fill: #D2E3FC;\n",
              "    }\n",
              "\n",
              "    [theme=dark] .colab-df-convert:hover {\n",
              "      background-color: #434B5C;\n",
              "      box-shadow: 0px 1px 3px 1px rgba(0, 0, 0, 0.15);\n",
              "      filter: drop-shadow(0px 1px 2px rgba(0, 0, 0, 0.3));\n",
              "      fill: #FFFFFF;\n",
              "    }\n",
              "  </style>\n",
              "\n",
              "      <script>\n",
              "        const buttonEl =\n",
              "          document.querySelector('#df-22da33e4-c4d4-470f-9402-26bd953792dd button.colab-df-convert');\n",
              "        buttonEl.style.display =\n",
              "          google.colab.kernel.accessAllowed ? 'block' : 'none';\n",
              "\n",
              "        async function convertToInteractive(key) {\n",
              "          const element = document.querySelector('#df-22da33e4-c4d4-470f-9402-26bd953792dd');\n",
              "          const dataTable =\n",
              "            await google.colab.kernel.invokeFunction('convertToInteractive',\n",
              "                                                     [key], {});\n",
              "          if (!dataTable) return;\n",
              "\n",
              "          const docLinkHtml = 'Like what you see? Visit the ' +\n",
              "            '<a target=\"_blank\" href=https://colab.research.google.com/notebooks/data_table.ipynb>data table notebook</a>'\n",
              "            + ' to learn more about interactive tables.';\n",
              "          element.innerHTML = '';\n",
              "          dataTable['output_type'] = 'display_data';\n",
              "          await google.colab.output.renderOutput(dataTable, element);\n",
              "          const docLink = document.createElement('div');\n",
              "          docLink.innerHTML = docLinkHtml;\n",
              "          element.appendChild(docLink);\n",
              "        }\n",
              "      </script>\n",
              "    </div>\n",
              "  </div>\n",
              "  "
            ]
          },
          "metadata": {},
          "execution_count": 4
        }
      ]
    },
    {
      "cell_type": "code",
      "source": [
        "df_crop.isnull().sum()"
      ],
      "metadata": {
        "colab": {
          "base_uri": "https://localhost:8080/"
        },
        "id": "HAPIsfdKcFKD",
        "outputId": "2db72e8e-7bb9-4910-ad4b-af1d5e0014b6"
      },
      "execution_count": 5,
      "outputs": [
        {
          "output_type": "execute_result",
          "data": {
            "text/plain": [
              "Crop                                             0\n",
              "Region                                           0\n",
              "latitude                                        37\n",
              "longitude                                       37\n",
              "Current Average Temperature (℃)                 37\n",
              "Future_Mid-point                                 0\n",
              "Baseline_Mid-point                               0\n",
              "Time slice                                       0\n",
              "Scenario source                                  0\n",
              "Local delta T                                 4225\n",
              "Local delta T from 2005                         37\n",
              "Global delta T from pre-industrial period      518\n",
              "Global delta T from 2005                       510\n",
              "Climate impacts per ℃ (%)                        0\n",
              "CO2                                              0\n",
              "CO2 ppm                                        209\n",
              "Fertiliser                                       0\n",
              "Irrigation                                       0\n",
              "Cultivar                                         0\n",
              "Soil organic matter management                   0\n",
              "Planting time                                    0\n",
              "Tillage                                          0\n",
              "Others                                           0\n",
              "dtype: int64"
            ]
          },
          "metadata": {},
          "execution_count": 5
        }
      ]
    },
    {
      "cell_type": "code",
      "source": [
        "df_crop.columns"
      ],
      "metadata": {
        "colab": {
          "base_uri": "https://localhost:8080/"
        },
        "id": "tJXLzn8HDJ1n",
        "outputId": "d151f036-5be7-4723-c4c8-ef461a5394cd"
      },
      "execution_count": 6,
      "outputs": [
        {
          "output_type": "execute_result",
          "data": {
            "text/plain": [
              "Index(['Crop', 'Region', 'latitude', 'longitude',\n",
              "       'Current Average Temperature (℃)', 'Future_Mid-point',\n",
              "       'Baseline_Mid-point', 'Time slice', 'Scenario source', 'Local delta T ',\n",
              "       'Local delta T from 2005', 'Global delta T from pre-industrial period ',\n",
              "       'Global delta T from 2005', 'Climate impacts per ℃ (%)', 'CO2',\n",
              "       'CO2 ppm', 'Fertiliser', 'Irrigation', 'Cultivar',\n",
              "       'Soil organic matter management', 'Planting time', 'Tillage', 'Others'],\n",
              "      dtype='object')"
            ]
          },
          "metadata": {},
          "execution_count": 6
        }
      ]
    },
    {
      "cell_type": "code",
      "source": [
        "df_crop=df_crop.drop(columns=['Local delta T ', 'Local delta T from 2005'])\n",
        "df_crop = df_crop.dropna(subset=['latitude', 'longitude','Current Average Temperature (℃)', 'Global delta T from pre-industrial period ', 'Global delta T from 2005','CO2 ppm'])"
      ],
      "metadata": {
        "id": "sBJjpkhpcHJk"
      },
      "execution_count": 7,
      "outputs": []
    },
    {
      "cell_type": "code",
      "source": [
        "df_crop['Cultivar'] = df_crop['Cultivar'].str.strip()\n",
        "df_crop['Scenario source'] = df_crop['Scenario source'].str.strip()\n",
        "df_crop['Scenario source'].value_counts()"
      ],
      "metadata": {
        "colab": {
          "base_uri": "https://localhost:8080/"
        },
        "id": "6Am_zELocI5t",
        "outputId": "8a20b14f-ab1a-48de-f2e5-b53a3f6cc0ea"
      },
      "execution_count": 8,
      "outputs": [
        {
          "output_type": "execute_result",
          "data": {
            "text/plain": [
              "CMIP5     6766\n",
              "CMIP3      840\n",
              "Others     138\n",
              "Name: Scenario source, dtype: int64"
            ]
          },
          "metadata": {},
          "execution_count": 8
        }
      ]
    },
    {
      "cell_type": "code",
      "source": [
        "df_crop_cat = pd.get_dummies(df_crop, columns=['CO2','Fertiliser', 'Irrigation','Cultivar','Soil organic matter management','Planting time','Tillage','Others'],drop_first=True)\n",
        "df_crop_cat['Region'] = df_crop_cat['Region'].replace({'Asia':0, 'Europe':1, 'Africa':2, 'North America':3, 'Central and South America':'4','Australasia':5})\n",
        "df_crop_cat['Scenario source'] = df_crop_cat['Scenario source'].replace({'CMIP5':0, 'CMIP3':1, 'Others':2})\n",
        "df_crop_cat['Time slice'] = df_crop_cat['Time slice'].replace({'NF':0, 'MC':1, 'EC':2})\n"
      ],
      "metadata": {
        "id": "dnjh_8CacP8H"
      },
      "execution_count": 9,
      "outputs": []
    },
    {
      "cell_type": "code",
      "source": [
        "df_crop_maize = df_crop_cat[df_crop_cat.Crop == 'Maize']\n",
        "df_crop_rice = df_crop_cat[df_crop_cat.Crop == 'Rice']\n",
        "df_crop_soybean = df_crop_cat[df_crop_cat.Crop == 'Soybean']\n",
        "df_crop_wheat = df_crop_cat[df_crop_cat.Crop == 'Wheat']"
      ],
      "metadata": {
        "id": "olkoX14zcbyl"
      },
      "execution_count": 10,
      "outputs": []
    },
    {
      "cell_type": "code",
      "source": [
        "df_crop_maize=df_crop_maize.drop(columns=['Crop'])\n",
        "df_crop_rice=df_crop_rice.drop(columns=['Crop'])\n",
        "df_crop_soybean=df_crop_soybean.drop(columns=['Crop'])\n",
        "df_crop_wheat=df_crop_wheat.drop(columns=['Crop'])"
      ],
      "metadata": {
        "id": "3Ys0HhOkcfop"
      },
      "execution_count": 11,
      "outputs": []
    },
    {
      "cell_type": "markdown",
      "source": [
        "####1. Maize"
      ],
      "metadata": {
        "id": "Fbmb4TX_nczS"
      }
    },
    {
      "cell_type": "code",
      "source": [
        "from sklearn.linear_model import LinearRegression\n",
        "from sklearn.preprocessing import StandardScaler\n",
        "from sklearn.model_selection import train_test_split\n",
        "from sklearn.linear_model import Ridge\n",
        "from sklearn.svm import SVR\n",
        "from sklearn.ensemble import RandomForestRegressor\n",
        "import xgboost as xg"
      ],
      "metadata": {
        "id": "Cr4SGPBWcuvO"
      },
      "execution_count": 12,
      "outputs": []
    },
    {
      "cell_type": "code",
      "source": [
        "df_maize_X = df_crop_maize.drop(columns=['Climate impacts per ℃ (%)'])\n",
        "df_maize_y = df_crop_maize['Climate impacts per ℃ (%)']"
      ],
      "metadata": {
        "id": "-WkcNch-et81"
      },
      "execution_count": 13,
      "outputs": []
    },
    {
      "cell_type": "code",
      "source": [
        "X_dev_m, X_test_m, y_dev_m, y_test_m = train_test_split(df_maize_X, df_maize_y, test_size=0.2, random_state=42)\n",
        "scaler = StandardScaler()\n",
        "X_dev_m = scaler.fit_transform(X_dev_m)   # Fit and transform scalar on X_dev\n",
        "X_test_m = scaler.transform(X_test_m)"
      ],
      "metadata": {
        "id": "iUgxLY2Of6Ze"
      },
      "execution_count": 14,
      "outputs": []
    },
    {
      "cell_type": "code",
      "source": [
        "reg = LinearRegression().fit(X_dev_m, y_dev_m)\n",
        "print('Train Score:',reg.score(X_dev_m, y_dev_m))\n",
        "print('Test Score:',reg.score(X_test_m, y_test_m))\n"
      ],
      "metadata": {
        "colab": {
          "base_uri": "https://localhost:8080/"
        },
        "id": "e5LxGcH2hW6J",
        "outputId": "44bc582d-8afe-44bd-c1ff-3389a1f69721"
      },
      "execution_count": 15,
      "outputs": [
        {
          "output_type": "stream",
          "name": "stdout",
          "text": [
            "Train Score: 0.3607517034734091\n",
            "Test Score: 0.38667781976088744\n"
          ]
        }
      ]
    },
    {
      "cell_type": "code",
      "source": [
        "reg2 = Ridge(alpha=0.5)\n",
        "reg2.fit(X_dev_m, y_dev_m)\n",
        "print('Train Score:',reg2.score(X_dev_m, y_dev_m))\n",
        "print('Test Score:',reg2.score(X_test_m, y_test_m))"
      ],
      "metadata": {
        "colab": {
          "base_uri": "https://localhost:8080/"
        },
        "id": "YgR-u-GjhzaL",
        "outputId": "ae445c28-9004-48ec-c9cb-13a19582c774"
      },
      "execution_count": 16,
      "outputs": [
        {
          "output_type": "stream",
          "name": "stdout",
          "text": [
            "Train Score: 0.36075142180415964\n",
            "Test Score: 0.38660898716045133\n"
          ]
        }
      ]
    },
    {
      "cell_type": "code",
      "source": [
        "reg3 = SVR(C=1.0, epsilon=0.1)\n",
        "reg3.fit(X_dev_m, y_dev_m)\n",
        "print('Train Score:',reg3.score(X_dev_m, y_dev_m))\n",
        "print('Test Score:',reg3.score(X_test_m, y_test_m))"
      ],
      "metadata": {
        "colab": {
          "base_uri": "https://localhost:8080/"
        },
        "id": "3JyWDxjXju2a",
        "outputId": "b3631f35-4fb5-4693-c11e-900a9649dc7d"
      },
      "execution_count": 17,
      "outputs": [
        {
          "output_type": "stream",
          "name": "stdout",
          "text": [
            "Train Score: 0.4193195491266626\n",
            "Test Score: 0.395855013157152\n"
          ]
        }
      ]
    },
    {
      "cell_type": "code",
      "source": [
        "rf_r = RandomForestRegressor(random_state=0,n_estimators = 100)\n",
        "rf_r.fit(X_dev_m, y_dev_m)\n",
        "print('Train Score:',rf_r.score(X_dev_m, y_dev_m))\n",
        "print('Test Score:',rf_r.score(X_test_m, y_test_m))"
      ],
      "metadata": {
        "colab": {
          "base_uri": "https://localhost:8080/"
        },
        "id": "rXb-KAULm713",
        "outputId": "359a0a5e-a32a-49f9-e089-e3d0809e5974"
      },
      "execution_count": 18,
      "outputs": [
        {
          "output_type": "stream",
          "name": "stdout",
          "text": [
            "Train Score: 0.9703642429873739\n",
            "Test Score: 0.9256404985574295\n"
          ]
        }
      ]
    },
    {
      "cell_type": "code",
      "source": [
        "importance = rf_r.feature_importances_\n",
        "Features = list(df_maize_X.columns.values)\n",
        "importance = list(importance)\n",
        "top_5_idx = np.argsort(importance)[-5:]\n",
        "top_5_f = [Features[i] for i in top_5_idx]\n",
        "top_5_values = [importance[i] for i in top_5_idx]\n",
        "print(top_5_f)\n",
        "plt.bar(top_5_f,top_5_values, width = 0.2)\n",
        "plt.tick_params(axis='x', which='major', labelsize = 10)\n",
        "plt.xticks(rotation = 45)\n",
        "# plt.xlabel(\"Features\",labelpad = 20)\n",
        "plt.show()"
      ],
      "metadata": {
        "colab": {
          "base_uri": "https://localhost:8080/",
          "height": 399
        },
        "id": "ciEfz_VBsPXH",
        "outputId": "e97bcfe9-bdab-4df3-c59a-bd63fba7b444"
      },
      "execution_count": 19,
      "outputs": [
        {
          "output_type": "stream",
          "name": "stdout",
          "text": [
            "['Global delta T from 2005', 'longitude', 'Current Average Temperature (℃)', 'latitude', 'Baseline_Mid-point']\n"
          ]
        },
        {
          "output_type": "display_data",
          "data": {
            "text/plain": [
              "<Figure size 432x288 with 1 Axes>"
            ],
            "image/png": "[encoded data removed]"
          },
          "metadata": {
            "needs_background": "light"
          }
        }
      ]
    },
    {
      "cell_type": "code",
      "source": [
        "xgb_r = xg.XGBRegressor(objective ='reg:squarederror', n_estimators = 100, learning_rate=0.3)\n",
        "xgb_r.fit(X_dev_m, y_dev_m)\n",
        "print('Train Score:',xgb_r.score(X_dev_m, y_dev_m))\n",
        "print('Test Score:',xgb_r.score(X_test_m, y_test_m))"
      ],
      "metadata": {
        "colab": {
          "base_uri": "https://localhost:8080/"
        },
        "id": "Kup02kX3oYfG",
        "outputId": "85db5b4f-7915-483b-f6bc-f6bfee192214"
      },
      "execution_count": 20,
      "outputs": [
        {
          "output_type": "stream",
          "name": "stdout",
          "text": [
            "Train Score: 0.8896210091396892\n",
            "Test Score: 0.8740517033738096\n"
          ]
        }
      ]
    },
    {
      "cell_type": "markdown",
      "source": [
        "####2. Rice"
      ],
      "metadata": {
        "id": "4ez4ycP_3Rxc"
      }
    },
    {
      "cell_type": "code",
      "source": [
        "df_rice_X = df_crop_rice.drop(columns=['Climate impacts per ℃ (%)'])\n",
        "df_rice_y = df_crop_rice['Climate impacts per ℃ (%)']"
      ],
      "metadata": {
        "id": "XDEHRlAd3RWD"
      },
      "execution_count": 21,
      "outputs": []
    },
    {
      "cell_type": "code",
      "source": [
        "X_dev, X_test, y_dev, y_test = train_test_split(df_rice_X, df_rice_y, test_size=0.2, random_state=42)\n",
        "scaler = StandardScaler()\n",
        "X_dev = scaler.fit_transform(X_dev)   # Fit and transform scalar on X_dev\n",
        "X_test = scaler.transform(X_test)"
      ],
      "metadata": {
        "id": "h-xsQpb63jwB"
      },
      "execution_count": 22,
      "outputs": []
    },
    {
      "cell_type": "code",
      "source": [
        "reg = LinearRegression().fit(X_dev, y_dev)\n",
        "print('Train Score:',reg.score(X_dev, y_dev))\n",
        "print('Test Score:',reg.score(X_test, y_test))\n"
      ],
      "metadata": {
        "colab": {
          "base_uri": "https://localhost:8080/"
        },
        "id": "UHwXipQf3l57",
        "outputId": "a348da26-9125-4051-876e-0170ecf81833"
      },
      "execution_count": 23,
      "outputs": [
        {
          "output_type": "stream",
          "name": "stdout",
          "text": [
            "Train Score: 0.12483991768321956\n",
            "Test Score: 0.07089757361080984\n"
          ]
        }
      ]
    },
    {
      "cell_type": "code",
      "source": [
        "reg2 = Ridge(alpha=0.5)\n",
        "reg2.fit(X_dev, y_dev)\n",
        "print('Train Score:',reg2.score(X_dev, y_dev))\n",
        "print('Test Score:',reg2.score(X_test, y_test))"
      ],
      "metadata": {
        "colab": {
          "base_uri": "https://localhost:8080/"
        },
        "id": "iuUwDJIj3rSy",
        "outputId": "dcc3728d-6136-4293-df54-7fee1e28529d"
      },
      "execution_count": 24,
      "outputs": [
        {
          "output_type": "stream",
          "name": "stdout",
          "text": [
            "Train Score: 0.12483847445285745\n",
            "Test Score: 0.07100597143291043\n"
          ]
        }
      ]
    },
    {
      "cell_type": "code",
      "source": [
        "reg3 = SVR(C=1.0, epsilon=0.1)\n",
        "reg3.fit(X_dev, y_dev)\n",
        "print('Train Score:',reg3.score(X_dev, y_dev))\n",
        "print('Test Score:',reg3.score(X_test, y_test))"
      ],
      "metadata": {
        "colab": {
          "base_uri": "https://localhost:8080/"
        },
        "id": "MOuoX8L93vp7",
        "outputId": "145e72ec-8643-4341-e8af-785e6d45549d"
      },
      "execution_count": 25,
      "outputs": [
        {
          "output_type": "stream",
          "name": "stdout",
          "text": [
            "Train Score: 0.15218372527874735\n",
            "Test Score: 0.09928868587959716\n"
          ]
        }
      ]
    },
    {
      "cell_type": "code",
      "source": [
        "rf_r = RandomForestRegressor(random_state=0)\n",
        "rf_r.fit(X_dev, y_dev)\n",
        "print('Train Score:',rf_r.score(X_dev, y_dev))\n",
        "print('Test Score:',rf_r.score(X_test, y_test))"
      ],
      "metadata": {
        "colab": {
          "base_uri": "https://localhost:8080/"
        },
        "id": "rWqQCyVb3yeJ",
        "outputId": "58973f3b-30e2-41ad-dd64-3485318317bb"
      },
      "execution_count": 26,
      "outputs": [
        {
          "output_type": "stream",
          "name": "stdout",
          "text": [
            "Train Score: 0.8624763138159246\n",
            "Test Score: 0.35288170224296234\n"
          ]
        }
      ]
    },
    {
      "cell_type": "code",
      "source": [
        "importance = rf_r.feature_importances_\n",
        "Features = list(df_rice_X.columns.values)\n",
        "importance = list(importance)\n",
        "top_5_idx = np.argsort(importance)[-5:]\n",
        "top_5_f = [Features[i] for i in top_5_idx]\n",
        "top_5_values = [importance[i] for i in top_5_idx]\n",
        "print(top_5_f)\n",
        "plt.bar(top_5_f,top_5_values, width = 0.2)\n",
        "plt.tick_params(axis='x', which='major', labelsize = 10)\n",
        "plt.xticks(rotation = 45)\n",
        "# plt.xlabel(\"Features\",labelpad = 20)\n",
        "plt.show()"
      ],
      "metadata": {
        "colab": {
          "base_uri": "https://localhost:8080/",
          "height": 399
        },
        "id": "O5Y3jF0032mL",
        "outputId": "23ed92bf-5756-4adb-d872-5284bbbc3887"
      },
      "execution_count": 27,
      "outputs": [
        {
          "output_type": "stream",
          "name": "stdout",
          "text": [
            "['CO2 ppm', 'Current Average Temperature (℃)', 'Baseline_Mid-point', 'longitude', 'latitude']\n"
          ]
        },
        {
          "output_type": "display_data",
          "data": {
            "text/plain": [
              "<Figure size 432x288 with 1 Axes>"
            ],
            "image/png": "[encoded data removed]"
          },
          "metadata": {
            "needs_background": "light"
          }
        }
      ]
    },
    {
      "cell_type": "code",
      "source": [
        "xgb_r = xg.XGBRegressor(objective ='reg:squarederror', n_estimators = 100, learning_rate=0.3)\n",
        "xgb_r.fit(X_dev, y_dev)\n",
        "print('Train Score:',xgb_r.score(X_dev, y_dev))\n",
        "print('Test Score:',xgb_r.score(X_test, y_test))"
      ],
      "metadata": {
        "colab": {
          "base_uri": "https://localhost:8080/"
        },
        "id": "-m8KBaHF34O6",
        "outputId": "ce4389ca-7ba1-4ceb-dfb0-e9d532713b27"
      },
      "execution_count": 28,
      "outputs": [
        {
          "output_type": "stream",
          "name": "stdout",
          "text": [
            "Train Score: 0.7944451633595445\n",
            "Test Score: 0.29983037168138704\n"
          ]
        }
      ]
    },
    {
      "cell_type": "markdown",
      "source": [
        "####3. Soybean"
      ],
      "metadata": {
        "id": "BydBw40b7lpw"
      }
    },
    {
      "cell_type": "code",
      "source": [
        "df_soybean_X = df_crop_soybean.drop(columns=['Climate impacts per ℃ (%)'])\n",
        "df_soybean_y = df_crop_soybean['Climate impacts per ℃ (%)']"
      ],
      "metadata": {
        "id": "wKzU1rm773uH"
      },
      "execution_count": 29,
      "outputs": []
    },
    {
      "cell_type": "code",
      "source": [
        "X_dev, X_test, y_dev, y_test = train_test_split(df_soybean_X, df_soybean_y, test_size=0.2, random_state=42)\n",
        "scaler = StandardScaler()\n",
        "X_dev = scaler.fit_transform(X_dev)   # Fit and transform scalar on X_dev\n",
        "X_test = scaler.transform(X_test)"
      ],
      "metadata": {
        "id": "BFtkjDxm8AUi"
      },
      "execution_count": 30,
      "outputs": []
    },
    {
      "cell_type": "code",
      "source": [
        "reg = LinearRegression().fit(X_dev, y_dev)\n",
        "print('Train Score:',reg.score(X_dev, y_dev))\n",
        "print('Test Score:',reg.score(X_test, y_test))\n"
      ],
      "metadata": {
        "colab": {
          "base_uri": "https://localhost:8080/"
        },
        "id": "Kn23vRfR8DAp",
        "outputId": "c9ee30dd-5d1b-408d-c1e6-293db73913c6"
      },
      "execution_count": 31,
      "outputs": [
        {
          "output_type": "stream",
          "name": "stdout",
          "text": [
            "Train Score: 0.42359995239842374\n",
            "Test Score: 0.334403821452128\n"
          ]
        }
      ]
    },
    {
      "cell_type": "code",
      "source": [
        "reg2 = Ridge(alpha=0.5)\n",
        "reg2.fit(X_dev, y_dev)\n",
        "print('Train Score:',reg2.score(X_dev, y_dev))\n",
        "print('Test Score:',reg2.score(X_test, y_test))"
      ],
      "metadata": {
        "colab": {
          "base_uri": "https://localhost:8080/"
        },
        "id": "QjVN0hc48FZb",
        "outputId": "00708fc9-a1ae-423f-c177-dde2a20bc84a"
      },
      "execution_count": 32,
      "outputs": [
        {
          "output_type": "stream",
          "name": "stdout",
          "text": [
            "Train Score: 0.4231514700339416\n",
            "Test Score: 0.32921070094705185\n"
          ]
        }
      ]
    },
    {
      "cell_type": "code",
      "source": [
        "reg3 = SVR(C=1.0, epsilon=0.1)\n",
        "reg3.fit(X_dev, y_dev)\n",
        "print('Train Score:',reg3.score(X_dev, y_dev))\n",
        "print('Test Score:',reg3.score(X_test, y_test))"
      ],
      "metadata": {
        "colab": {
          "base_uri": "https://localhost:8080/"
        },
        "id": "jQ3AWLAm8HW5",
        "outputId": "52f4e08a-0cf6-40f2-9e55-ee451a805448"
      },
      "execution_count": 33,
      "outputs": [
        {
          "output_type": "stream",
          "name": "stdout",
          "text": [
            "Train Score: 0.13640965026329033\n",
            "Test Score: 0.08201576104736907\n"
          ]
        }
      ]
    },
    {
      "cell_type": "code",
      "source": [
        "rf_r = RandomForestRegressor(random_state=0)\n",
        "rf_r.fit(X_dev, y_dev)\n",
        "print('Train Score:',rf_r.score(X_dev, y_dev))\n",
        "print('Test Score:',rf_r.score(X_test, y_test))"
      ],
      "metadata": {
        "colab": {
          "base_uri": "https://localhost:8080/"
        },
        "id": "fP8lJptA8JbS",
        "outputId": "c8795ecf-3710-49d9-f91c-a356a5c2f57a"
      },
      "execution_count": 34,
      "outputs": [
        {
          "output_type": "stream",
          "name": "stdout",
          "text": [
            "Train Score: 0.9876399172739057\n",
            "Test Score: 0.923188531123103\n"
          ]
        }
      ]
    },
    {
      "cell_type": "code",
      "source": [
        "importance = rf_r.feature_importances_\n",
        "Features = list(df_soybean_X.columns.values)\n",
        "importance = list(importance)\n",
        "top_5_idx = np.argsort(importance)[-5:]\n",
        "top_5_f = [Features[i] for i in top_5_idx]\n",
        "top_5_values = [importance[i] for i in top_5_idx]\n",
        "print(top_5_f)\n",
        "plt.bar(top_5_f,top_5_values, width = 0.2)\n",
        "plt.tick_params(axis='x', which='major', labelsize = 10)\n",
        "plt.xticks(rotation = 45)\n",
        "# plt.xlabel(\"Features\",labelpad = 20)\n",
        "plt.show()"
      ],
      "metadata": {
        "colab": {
          "base_uri": "https://localhost:8080/",
          "height": 400
        },
        "id": "raaq-wFg8LfK",
        "outputId": "199ea13e-e3be-43f2-f292-8ae1c8c6e219"
      },
      "execution_count": 35,
      "outputs": [
        {
          "output_type": "stream",
          "name": "stdout",
          "text": [
            "['longitude', 'Current Average Temperature (℃)', 'Baseline_Mid-point', 'latitude', 'CO2 ppm']\n"
          ]
        },
        {
          "output_type": "display_data",
          "data": {
            "text/plain": [
              "<Figure size 432x288 with 1 Axes>"
            ],
            "image/png": "[encoded data removed]"
          },
          "metadata": {
            "needs_background": "light"
          }
        }
      ]
    },
    {
      "cell_type": "code",
      "source": [
        "xgb_r = xg.XGBRegressor(objective ='reg:squarederror', n_estimators = 100, learning_rate=0.3)\n",
        "xgb_r.fit(X_dev, y_dev)\n",
        "print('Train Score:',xgb_r.score(X_dev, y_dev))\n",
        "print('Test Score:',xgb_r.score(X_test, y_test))"
      ],
      "metadata": {
        "colab": {
          "base_uri": "https://localhost:8080/"
        },
        "id": "d2RxEgGl8NPW",
        "outputId": "c137d137-2d42-4b3d-b28b-6d9275947af2"
      },
      "execution_count": 36,
      "outputs": [
        {
          "output_type": "stream",
          "name": "stdout",
          "text": [
            "Train Score: 0.9949735277078774\n",
            "Test Score: 0.9449389378945564\n"
          ]
        }
      ]
    },
    {
      "cell_type": "markdown",
      "source": [
        "####4. Wheat"
      ],
      "metadata": {
        "id": "C45rWYDc_uvZ"
      }
    },
    {
      "cell_type": "code",
      "source": [
        "df_wheat_X = df_crop_wheat.drop(columns=['Climate impacts per ℃ (%)'])\n",
        "df_wheat_y = df_crop_wheat['Climate impacts per ℃ (%)']"
      ],
      "metadata": {
        "id": "4k9ePFVa9Fne"
      },
      "execution_count": 37,
      "outputs": []
    },
    {
      "cell_type": "code",
      "source": [
        "X_dev, X_test, y_dev, y_test = train_test_split(df_wheat_X, df_wheat_y, test_size=0.2, random_state=42)\n",
        "scaler = StandardScaler()\n",
        "X_dev = scaler.fit_transform(X_dev)   # Fit and transform scalar on X_dev\n",
        "X_test = scaler.transform(X_test)"
      ],
      "metadata": {
        "id": "hgw4hMrKBaIi"
      },
      "execution_count": 38,
      "outputs": []
    },
    {
      "cell_type": "code",
      "source": [
        "reg = LinearRegression().fit(X_dev, y_dev)\n",
        "print('Train Score:',reg.score(X_dev, y_dev))\n",
        "print('Test Score:',reg.score(X_test, y_test))\n"
      ],
      "metadata": {
        "colab": {
          "base_uri": "https://localhost:8080/"
        },
        "id": "HygzcxqGBfnP",
        "outputId": "43dcb60e-3730-40df-b088-4ddfd1592217"
      },
      "execution_count": 39,
      "outputs": [
        {
          "output_type": "stream",
          "name": "stdout",
          "text": [
            "Train Score: 0.2826804078145976\n",
            "Test Score: 0.27760165463142383\n"
          ]
        }
      ]
    },
    {
      "cell_type": "code",
      "source": [
        "reg2 = Ridge(alpha=0.5)\n",
        "reg2.fit(X_dev, y_dev)\n",
        "print('Train Score:',reg2.score(X_dev, y_dev))\n",
        "print('Test Score:',reg2.score(X_test, y_test))"
      ],
      "metadata": {
        "colab": {
          "base_uri": "https://localhost:8080/"
        },
        "id": "9krMb_XzBhrL",
        "outputId": "b0c208f6-836d-4e8a-f678-06a449e61a1d"
      },
      "execution_count": 40,
      "outputs": [
        {
          "output_type": "stream",
          "name": "stdout",
          "text": [
            "Train Score: 0.2826797067099921\n",
            "Test Score: 0.27755243400661544\n"
          ]
        }
      ]
    },
    {
      "cell_type": "code",
      "source": [
        "reg3 = SVR(C=1.0, epsilon=0.1)\n",
        "reg3.fit(X_dev, y_dev)\n",
        "print('Train Score:',reg3.score(X_dev, y_dev))\n",
        "print('Test Score:',reg3.score(X_test, y_test))"
      ],
      "metadata": {
        "colab": {
          "base_uri": "https://localhost:8080/"
        },
        "id": "QyAFitgUBlqu",
        "outputId": "e13ff1d5-2ce2-4029-d190-834a2d4c6158"
      },
      "execution_count": 41,
      "outputs": [
        {
          "output_type": "stream",
          "name": "stdout",
          "text": [
            "Train Score: 0.3109645863469399\n",
            "Test Score: 0.27245372995003225\n"
          ]
        }
      ]
    },
    {
      "cell_type": "code",
      "source": [
        "rf_r = RandomForestRegressor(random_state=0)\n",
        "rf_r.fit(X_dev, y_dev)\n",
        "print('Train Score:',rf_r.score(X_dev, y_dev))\n",
        "print('Test Score:',rf_r.score(X_test, y_test))"
      ],
      "metadata": {
        "colab": {
          "base_uri": "https://localhost:8080/"
        },
        "id": "mxzOXDdHBoWD",
        "outputId": "14664176-056e-45a0-9a27-cfecad1a4c34"
      },
      "execution_count": 42,
      "outputs": [
        {
          "output_type": "stream",
          "name": "stdout",
          "text": [
            "Train Score: 0.9827903739900681\n",
            "Test Score: 0.9189587631964402\n"
          ]
        }
      ]
    },
    {
      "cell_type": "code",
      "source": [
        "importance = rf_r.feature_importances_\n",
        "Features = list(df_soybean_X.columns.values)\n",
        "importance = list(importance)\n",
        "top_5_idx = np.argsort(importance)[-5:]\n",
        "top_5_f = [Features[i] for i in top_5_idx]\n",
        "top_5_values = [importance[i] for i in top_5_idx]\n",
        "print(top_5_f)\n",
        "plt.bar(top_5_f,top_5_values, width = 0.2)\n",
        "plt.tick_params(axis='x', which='major', labelsize = 10)\n",
        "plt.xticks(rotation = 45)\n",
        "# plt.xlabel(\"Features\",labelpad = 20)\n",
        "plt.show()"
      ],
      "metadata": {
        "colab": {
          "base_uri": "https://localhost:8080/",
          "height": 399
        },
        "id": "Dgi_qT0wBtzE",
        "outputId": "9e03ae93-d695-4b11-fa52-26c2842ccf30"
      },
      "execution_count": 43,
      "outputs": [
        {
          "output_type": "stream",
          "name": "stdout",
          "text": [
            "['CO2 ppm', 'longitude', 'Current Average Temperature (℃)', 'latitude', 'Baseline_Mid-point']\n"
          ]
        },
        {
          "output_type": "display_data",
          "data": {
            "text/plain": [
              "<Figure size 432x288 with 1 Axes>"
            ],
            "image/png": "[encoded data removed]"
          },
          "metadata": {
            "needs_background": "light"
          }
        }
      ]
    },
    {
      "cell_type": "code",
      "source": [
        "xgb_r = xg.XGBRegressor(objective ='reg:squarederror', n_estimators = 100, learning_rate=0.3)\n",
        "xgb_r.fit(X_dev, y_dev)\n",
        "print('Train Score:',xgb_r.score(X_dev, y_dev))\n",
        "print('Test Score:',xgb_r.score(X_test, y_test))"
      ],
      "metadata": {
        "colab": {
          "base_uri": "https://localhost:8080/"
        },
        "id": "707m1hj9BwGz",
        "outputId": "91d64aff-1d41-4b92-adc0-adce8cc38079"
      },
      "execution_count": 44,
      "outputs": [
        {
          "output_type": "stream",
          "name": "stdout",
          "text": [
            "Train Score: 0.9359752829804191\n",
            "Test Score: 0.8769772740034452\n"
          ]
        }
      ]
    }
  ]
}