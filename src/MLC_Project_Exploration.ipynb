{
  "nbformat": 4,
  "nbformat_minor": 0,
  "metadata": {
    "colab": {
      "provenance": []
    },
    "kernelspec": {
      "name": "python3",
      "display_name": "Python 3"
    },
    "language_info": {
      "name": "python"
    },
    "gpuClass": "standard"
  },
  "cells": [
    {
      "cell_type": "markdown",
      "source": [
        "### Name: Aayush Kamath <br> UNI: ak4808"
      ],
      "metadata": {
        "id": "SK0ZXE_CKGJx"
      }
    },
    {
      "cell_type": "code",
      "source": [
        "import numpy as np\n",
        "import pandas as pd\n",
        "import matplotlib.pyplot as plt\n",
        "import seaborn as sns"
      ],
      "metadata": {
        "id": "pjso59CbPXp0"
      },
      "execution_count": 1,
      "outputs": []
    },
    {
      "cell_type": "code",
      "execution_count": 2,
      "metadata": {
        "colab": {
          "base_uri": "https://localhost:8080/"
        },
        "id": "UVjOJWvYKPnu",
        "outputId": "05368a20-0a8e-45ca-a727-a712c3f575bd"
      },
      "outputs": [
        {
          "output_type": "stream",
          "name": "stdout",
          "text": [
            "Mounted at /content/gdrive\n"
          ]
        }
      ],
      "source": [
        "## YOUR CODE HERE\n",
        "from google.colab import drive\n",
        "drive.mount(\"/content/gdrive\")"
      ]
    },
    {
      "cell_type": "code",
      "source": [
        "df = pd.read_excel('/content/gdrive/My Drive/ML_Climate/Data/Projected_impacts_datasheet.xlsx')\n",
        "df.head()"
      ],
      "metadata": {
        "colab": {
          "base_uri": "https://localhost:8080/",
          "height": 456
        },
        "id": "uuvrL_bGKb6U",
        "outputId": "89feaa6d-27fe-42b6-cdc3-f942fe31ac16"
      },
      "execution_count": 3,
      "outputs": [
        {
          "output_type": "execute_result",
          "data": {
            "text/plain": [
              "   ID Ref No            Source      Scale   Crop        Country  \\\n",
              "0   1       1  SCOPUS-NewSearch  Regional  Maize       Pakistan   \n",
              "1   2       1  SCOPUS-NewSearch  Regional  Maize       Pakistan   \n",
              "2   3       2  SCOPUS-NewSearch  Regional  Maize  United States   \n",
              "3   4       2  SCOPUS-NewSearch  Regional  Maize  United States   \n",
              "4   5       3  SCOPUS-NewSearch  Regional  Maize          China   \n",
              "\n",
              "  Site(location)         Region  latitude  longitude  ...  Planting time  \\\n",
              "0         Punjub           Asia   31.4167    73.0911  ...             No   \n",
              "1         Punjub           Asia   31.4167    73.0911  ...            Yes   \n",
              "2        Wyoming  North America   43.2705  -104.1080  ...             No   \n",
              "3        Wyoming  North America   43.2705  -104.1080  ...             No   \n",
              "4          Hubei           Asia   30.0000   110.0000  ...             No   \n",
              "\n",
              "   Tillage  Others Adaptation Adaptation type                Reference  \\\n",
              "0       No      No         No              No       Ahmad et al., 2020   \n",
              "1       No     Yes        Yes        Combined       Ahmad et al., 2020   \n",
              "2       No      No         No              No  Burchfield et al., 2020   \n",
              "3       No     Yes        Yes          Others  Burchfield et al., 2020   \n",
              "4       No      No         No              No        Chen et al., 2020   \n",
              "\n",
              "                               doi  Publication year  \\\n",
              "0        10.1016/j.eja.2020.126040              2020   \n",
              "1        10.1016/j.eja.2020.126040              2020   \n",
              "2       10.1007/s10584-019-02567-7              2020   \n",
              "3       10.1007/s10584-019-02567-7              2020   \n",
              "4  10.1016/j.agrformet.2019.107867              2020   \n",
              "\n",
              "   Note1 \\n(* = corrected by HW)   \\\n",
              "0                             NaN   \n",
              "1                             NaN   \n",
              "2                             NaN   \n",
              "3                             NaN   \n",
              "4                             NaN   \n",
              "\n",
              "   Note2 \\n(* = Local temperature is  estimated )  \n",
              "0                                             NaN  \n",
              "1                                             NaN  \n",
              "2                                               *  \n",
              "3                                               *  \n",
              "4                                             NaN  \n",
              "\n",
              "[5 rows x 40 columns]"
            ],
            "text/html": [
              "\n",
              "  <div id=\"df-e03e9bd9-cb15-40ff-a51b-07f02e6c8e9f\">\n",
              "    <div class=\"colab-df-container\">\n",
              "      <div>\n",
              "<style scoped>\n",
              "    .dataframe tbody tr th:only-of-type {\n",
              "        vertical-align: middle;\n",
              "    }\n",
              "\n",
              "    .dataframe tbody tr th {\n",
              "        vertical-align: top;\n",
              "    }\n",
              "\n",
              "    .dataframe thead th {\n",
              "        text-align: right;\n",
              "    }\n",
              "</style>\n",
              "<table border=\"1\" class=\"dataframe\">\n",
              "  <thead>\n",
              "    <tr style=\"text-align: right;\">\n",
              "      <th></th>\n",
              "      <th>ID</th>\n",
              "      <th>Ref No</th>\n",
              "      <th>Source</th>\n",
              "      <th>Scale</th>\n",
              "      <th>Crop</th>\n",
              "      <th>Country</th>\n",
              "      <th>Site(location)</th>\n",
              "      <th>Region</th>\n",
              "      <th>latitude</th>\n",
              "      <th>longitude</th>\n",
              "      <th>...</th>\n",
              "      <th>Planting time</th>\n",
              "      <th>Tillage</th>\n",
              "      <th>Others</th>\n",
              "      <th>Adaptation</th>\n",
              "      <th>Adaptation type</th>\n",
              "      <th>Reference</th>\n",
              "      <th>doi</th>\n",
              "      <th>Publication year</th>\n",
              "      <th>Note1 \\n(* = corrected by HW)</th>\n",
              "      <th>Note2 \\n(* = Local temperature is  estimated )</th>\n",
              "    </tr>\n",
              "  </thead>\n",
              "  <tbody>\n",
              "    <tr>\n",
              "      <th>0</th>\n",
              "      <td>1</td>\n",
              "      <td>1</td>\n",
              "      <td>SCOPUS-NewSearch</td>\n",
              "      <td>Regional</td>\n",
              "      <td>Maize</td>\n",
              "      <td>Pakistan</td>\n",
              "      <td>Punjub</td>\n",
              "      <td>Asia</td>\n",
              "      <td>31.4167</td>\n",
              "      <td>73.0911</td>\n",
              "      <td>...</td>\n",
              "      <td>No</td>\n",
              "      <td>No</td>\n",
              "      <td>No</td>\n",
              "      <td>No</td>\n",
              "      <td>No</td>\n",
              "      <td>Ahmad et al., 2020</td>\n",
              "      <td>10.1016/j.eja.2020.126040</td>\n",
              "      <td>2020</td>\n",
              "      <td>NaN</td>\n",
              "      <td>NaN</td>\n",
              "    </tr>\n",
              "    <tr>\n",
              "      <th>1</th>\n",
              "      <td>2</td>\n",
              "      <td>1</td>\n",
              "      <td>SCOPUS-NewSearch</td>\n",
              "      <td>Regional</td>\n",
              "      <td>Maize</td>\n",
              "      <td>Pakistan</td>\n",
              "      <td>Punjub</td>\n",
              "      <td>Asia</td>\n",
              "      <td>31.4167</td>\n",
              "      <td>73.0911</td>\n",
              "      <td>...</td>\n",
              "      <td>Yes</td>\n",
              "      <td>No</td>\n",
              "      <td>Yes</td>\n",
              "      <td>Yes</td>\n",
              "      <td>Combined</td>\n",
              "      <td>Ahmad et al., 2020</td>\n",
              "      <td>10.1016/j.eja.2020.126040</td>\n",
              "      <td>2020</td>\n",
              "      <td>NaN</td>\n",
              "      <td>NaN</td>\n",
              "    </tr>\n",
              "    <tr>\n",
              "      <th>2</th>\n",
              "      <td>3</td>\n",
              "      <td>2</td>\n",
              "      <td>SCOPUS-NewSearch</td>\n",
              "      <td>Regional</td>\n",
              "      <td>Maize</td>\n",
              "      <td>United States</td>\n",
              "      <td>Wyoming</td>\n",
              "      <td>North America</td>\n",
              "      <td>43.2705</td>\n",
              "      <td>-104.1080</td>\n",
              "      <td>...</td>\n",
              "      <td>No</td>\n",
              "      <td>No</td>\n",
              "      <td>No</td>\n",
              "      <td>No</td>\n",
              "      <td>No</td>\n",
              "      <td>Burchfield et al., 2020</td>\n",
              "      <td>10.1007/s10584-019-02567-7</td>\n",
              "      <td>2020</td>\n",
              "      <td>NaN</td>\n",
              "      <td>*</td>\n",
              "    </tr>\n",
              "    <tr>\n",
              "      <th>3</th>\n",
              "      <td>4</td>\n",
              "      <td>2</td>\n",
              "      <td>SCOPUS-NewSearch</td>\n",
              "      <td>Regional</td>\n",
              "      <td>Maize</td>\n",
              "      <td>United States</td>\n",
              "      <td>Wyoming</td>\n",
              "      <td>North America</td>\n",
              "      <td>43.2705</td>\n",
              "      <td>-104.1080</td>\n",
              "      <td>...</td>\n",
              "      <td>No</td>\n",
              "      <td>No</td>\n",
              "      <td>Yes</td>\n",
              "      <td>Yes</td>\n",
              "      <td>Others</td>\n",
              "      <td>Burchfield et al., 2020</td>\n",
              "      <td>10.1007/s10584-019-02567-7</td>\n",
              "      <td>2020</td>\n",
              "      <td>NaN</td>\n",
              "      <td>*</td>\n",
              "    </tr>\n",
              "    <tr>\n",
              "      <th>4</th>\n",
              "      <td>5</td>\n",
              "      <td>3</td>\n",
              "      <td>SCOPUS-NewSearch</td>\n",
              "      <td>Regional</td>\n",
              "      <td>Maize</td>\n",
              "      <td>China</td>\n",
              "      <td>Hubei</td>\n",
              "      <td>Asia</td>\n",
              "      <td>30.0000</td>\n",
              "      <td>110.0000</td>\n",
              "      <td>...</td>\n",
              "      <td>No</td>\n",
              "      <td>No</td>\n",
              "      <td>No</td>\n",
              "      <td>No</td>\n",
              "      <td>No</td>\n",
              "      <td>Chen et al., 2020</td>\n",
              "      <td>10.1016/j.agrformet.2019.107867</td>\n",
              "      <td>2020</td>\n",
              "      <td>NaN</td>\n",
              "      <td>NaN</td>\n",
              "    </tr>\n",
              "  </tbody>\n",
              "</table>\n",
              "<p>5 rows × 40 columns</p>\n",
              "</div>\n",
              "      <button class=\"colab-df-convert\" onclick=\"convertToInteractive('df-e03e9bd9-cb15-40ff-a51b-07f02e6c8e9f')\"\n",
              "              title=\"Convert this dataframe to an interactive table.\"\n",
              "              style=\"display:none;\">\n",
              "        \n",
              "  <svg xmlns=\"http://www.w3.org/2000/svg\" height=\"24px\"viewBox=\"0 0 24 24\"\n",
              "       width=\"24px\">\n",
              "    <path d=\"M0 0h24v24H0V0z\" fill=\"none\"/>\n",
              "    <path d=\"M18.56 5.44l.94 2.06.94-2.06 2.06-.94-2.06-.94-.94-2.06-.94 2.06-2.06.94zm-11 1L8.5 8.5l.94-2.06 2.06-.94-2.06-.94L8.5 2.5l-.94 2.06-2.06.94zm10 10l.94 2.06.94-2.06 2.06-.94-2.06-.94-.94-2.06-.94 2.06-2.06.94z\"/><path d=\"M17.41 7.96l-1.37-1.37c-.4-.4-.92-.59-1.43-.59-.52 0-1.04.2-1.43.59L10.3 9.45l-7.72 7.72c-.78.78-.78 2.05 0 2.83L4 21.41c.39.39.9.59 1.41.59.51 0 1.02-.2 1.41-.59l7.78-7.78 2.81-2.81c.8-.78.8-2.07 0-2.86zM5.41 20L4 18.59l7.72-7.72 1.47 1.35L5.41 20z\"/>\n",
              "  </svg>\n",
              "      </button>\n",
              "      \n",
              "  <style>\n",
              "    .colab-df-container {\n",
              "      display:flex;\n",
              "      flex-wrap:wrap;\n",
              "      gap: 12px;\n",
              "    }\n",
              "\n",
              "    .colab-df-convert {\n",
              "      background-color: #E8F0FE;\n",
              "      border: none;\n",
              "      border-radius: 50%;\n",
              "      cursor: pointer;\n",
              "      display: none;\n",
              "      fill: #1967D2;\n",
              "      height: 32px;\n",
              "      padding: 0 0 0 0;\n",
              "      width: 32px;\n",
              "    }\n",
              "\n",
              "    .colab-df-convert:hover {\n",
              "      background-color: #E2EBFA;\n",
              "      box-shadow: 0px 1px 2px rgba(60, 64, 67, 0.3), 0px 1px 3px 1px rgba(60, 64, 67, 0.15);\n",
              "      fill: #174EA6;\n",
              "    }\n",
              "\n",
              "    [theme=dark] .colab-df-convert {\n",
              "      background-color: #3B4455;\n",
              "      fill: #D2E3FC;\n",
              "    }\n",
              "\n",
              "    [theme=dark] .colab-df-convert:hover {\n",
              "      background-color: #434B5C;\n",
              "      box-shadow: 0px 1px 3px 1px rgba(0, 0, 0, 0.15);\n",
              "      filter: drop-shadow(0px 1px 2px rgba(0, 0, 0, 0.3));\n",
              "      fill: #FFFFFF;\n",
              "    }\n",
              "  </style>\n",
              "\n",
              "      <script>\n",
              "        const buttonEl =\n",
              "          document.querySelector('#df-e03e9bd9-cb15-40ff-a51b-07f02e6c8e9f button.colab-df-convert');\n",
              "        buttonEl.style.display =\n",
              "          google.colab.kernel.accessAllowed ? 'block' : 'none';\n",
              "\n",
              "        async function convertToInteractive(key) {\n",
              "          const element = document.querySelector('#df-e03e9bd9-cb15-40ff-a51b-07f02e6c8e9f');\n",
              "          const dataTable =\n",
              "            await google.colab.kernel.invokeFunction('convertToInteractive',\n",
              "                                                     [key], {});\n",
              "          if (!dataTable) return;\n",
              "\n",
              "          const docLinkHtml = 'Like what you see? Visit the ' +\n",
              "            '<a target=\"_blank\" href=https://colab.research.google.com/notebooks/data_table.ipynb>data table notebook</a>'\n",
              "            + ' to learn more about interactive tables.';\n",
              "          element.innerHTML = '';\n",
              "          dataTable['output_type'] = 'display_data';\n",
              "          await google.colab.output.renderOutput(dataTable, element);\n",
              "          const docLink = document.createElement('div');\n",
              "          docLink.innerHTML = docLinkHtml;\n",
              "          element.appendChild(docLink);\n",
              "        }\n",
              "      </script>\n",
              "    </div>\n",
              "  </div>\n",
              "  "
            ]
          },
          "metadata": {},
          "execution_count": 3
        }
      ]
    },
    {
      "cell_type": "markdown",
      "source": [
        "##Data Preprocessing"
      ],
      "metadata": {
        "id": "ChuqO8A0ZG-L"
      }
    },
    {
      "cell_type": "code",
      "source": [
        "num = [4] + [i for i in range(7,14)] + [i for i in range(15,20)] + [22] + [i for i in range(24,33)]\n",
        "\n",
        "df_crop = df.iloc[:, num]\n",
        "df_crop.head()"
      ],
      "metadata": {
        "id": "hhVVJQrzPZAZ",
        "colab": {
          "base_uri": "https://localhost:8080/",
          "height": 366
        },
        "outputId": "89e99533-4c47-4028-981b-f189e413b231"
      },
      "execution_count": 4,
      "outputs": [
        {
          "output_type": "execute_result",
          "data": {
            "text/plain": [
              "    Crop         Region  latitude  longitude  Current Average Temperature (℃)  \\\n",
              "0  Maize           Asia   31.4167    73.0911                          25.4543   \n",
              "1  Maize           Asia   31.4167    73.0911                          25.4543   \n",
              "2  Maize  North America   43.2705  -104.1080                          10.1912   \n",
              "3  Maize  North America   43.2705  -104.1080                          10.1912   \n",
              "4  Maize           Asia   30.0000   110.0000                          14.6521   \n",
              "\n",
              "   Future_Mid-point  Baseline_Mid-point Time slice Scenario source  \\\n",
              "0              2054                1995         MC           CMIP5   \n",
              "1              2054                1995         MC           CMIP5   \n",
              "2              2055                1998         MC           CMIP5   \n",
              "3              2055                1998         MC           CMIP5   \n",
              "4              2050                1983         MC           CMIP5   \n",
              "\n",
              "   Local delta T   ...  Climate impacts per ℃ (%)  CO2    CO2 ppm  Fertiliser  \\\n",
              "0            2.94  ...                  -6.671298  Yes  564.31311          No   \n",
              "1            2.94  ...                   4.765213  Yes  564.31311         Yes   \n",
              "2             NaN  ...                  -8.868124  Yes  570.51669          No   \n",
              "3             NaN  ...                   9.897460  Yes  570.51669          No   \n",
              "4            1.15  ...                  -4.675325  Yes  486.53532          No   \n",
              "\n",
              "  Irrigation  Cultivar Soil organic matter management Planting time Tillage  \\\n",
              "0         No        No                             No            No      No   \n",
              "1         No       Yes                             No           Yes      No   \n",
              "2         No        No                             No            No      No   \n",
              "3         No        No                             No            No      No   \n",
              "4         No        No                             No            No      No   \n",
              "\n",
              "  Others  \n",
              "0     No  \n",
              "1    Yes  \n",
              "2     No  \n",
              "3    Yes  \n",
              "4     No  \n",
              "\n",
              "[5 rows x 23 columns]"
            ],
            "text/html": [
              "\n",
              "  <div id=\"df-20774034-7f48-4bdb-bee9-7e5c6f3a0296\">\n",
              "    <div class=\"colab-df-container\">\n",
              "      <div>\n",
              "<style scoped>\n",
              "    .dataframe tbody tr th:only-of-type {\n",
              "        vertical-align: middle;\n",
              "    }\n",
              "\n",
              "    .dataframe tbody tr th {\n",
              "        vertical-align: top;\n",
              "    }\n",
              "\n",
              "    .dataframe thead th {\n",
              "        text-align: right;\n",
              "    }\n",
              "</style>\n",
              "<table border=\"1\" class=\"dataframe\">\n",
              "  <thead>\n",
              "    <tr style=\"text-align: right;\">\n",
              "      <th></th>\n",
              "      <th>Crop</th>\n",
              "      <th>Region</th>\n",
              "      <th>latitude</th>\n",
              "      <th>longitude</th>\n",
              "      <th>Current Average Temperature (℃)</th>\n",
              "      <th>Future_Mid-point</th>\n",
              "      <th>Baseline_Mid-point</th>\n",
              "      <th>Time slice</th>\n",
              "      <th>Scenario source</th>\n",
              "      <th>Local delta T</th>\n",
              "      <th>...</th>\n",
              "      <th>Climate impacts per ℃ (%)</th>\n",
              "      <th>CO2</th>\n",
              "      <th>CO2 ppm</th>\n",
              "      <th>Fertiliser</th>\n",
              "      <th>Irrigation</th>\n",
              "      <th>Cultivar</th>\n",
              "      <th>Soil organic matter management</th>\n",
              "      <th>Planting time</th>\n",
              "      <th>Tillage</th>\n",
              "      <th>Others</th>\n",
              "    </tr>\n",
              "  </thead>\n",
              "  <tbody>\n",
              "    <tr>\n",
              "      <th>0</th>\n",
              "      <td>Maize</td>\n",
              "      <td>Asia</td>\n",
              "      <td>31.4167</td>\n",
              "      <td>73.0911</td>\n",
              "      <td>25.4543</td>\n",
              "      <td>2054</td>\n",
              "      <td>1995</td>\n",
              "      <td>MC</td>\n",
              "      <td>CMIP5</td>\n",
              "      <td>2.94</td>\n",
              "      <td>...</td>\n",
              "      <td>-6.671298</td>\n",
              "      <td>Yes</td>\n",
              "      <td>564.31311</td>\n",
              "      <td>No</td>\n",
              "      <td>No</td>\n",
              "      <td>No</td>\n",
              "      <td>No</td>\n",
              "      <td>No</td>\n",
              "      <td>No</td>\n",
              "      <td>No</td>\n",
              "    </tr>\n",
              "    <tr>\n",
              "      <th>1</th>\n",
              "      <td>Maize</td>\n",
              "      <td>Asia</td>\n",
              "      <td>31.4167</td>\n",
              "      <td>73.0911</td>\n",
              "      <td>25.4543</td>\n",
              "      <td>2054</td>\n",
              "      <td>1995</td>\n",
              "      <td>MC</td>\n",
              "      <td>CMIP5</td>\n",
              "      <td>2.94</td>\n",
              "      <td>...</td>\n",
              "      <td>4.765213</td>\n",
              "      <td>Yes</td>\n",
              "      <td>564.31311</td>\n",
              "      <td>Yes</td>\n",
              "      <td>No</td>\n",
              "      <td>Yes</td>\n",
              "      <td>No</td>\n",
              "      <td>Yes</td>\n",
              "      <td>No</td>\n",
              "      <td>Yes</td>\n",
              "    </tr>\n",
              "    <tr>\n",
              "      <th>2</th>\n",
              "      <td>Maize</td>\n",
              "      <td>North America</td>\n",
              "      <td>43.2705</td>\n",
              "      <td>-104.1080</td>\n",
              "      <td>10.1912</td>\n",
              "      <td>2055</td>\n",
              "      <td>1998</td>\n",
              "      <td>MC</td>\n",
              "      <td>CMIP5</td>\n",
              "      <td>NaN</td>\n",
              "      <td>...</td>\n",
              "      <td>-8.868124</td>\n",
              "      <td>Yes</td>\n",
              "      <td>570.51669</td>\n",
              "      <td>No</td>\n",
              "      <td>No</td>\n",
              "      <td>No</td>\n",
              "      <td>No</td>\n",
              "      <td>No</td>\n",
              "      <td>No</td>\n",
              "      <td>No</td>\n",
              "    </tr>\n",
              "    <tr>\n",
              "      <th>3</th>\n",
              "      <td>Maize</td>\n",
              "      <td>North America</td>\n",
              "      <td>43.2705</td>\n",
              "      <td>-104.1080</td>\n",
              "      <td>10.1912</td>\n",
              "      <td>2055</td>\n",
              "      <td>1998</td>\n",
              "      <td>MC</td>\n",
              "      <td>CMIP5</td>\n",
              "      <td>NaN</td>\n",
              "      <td>...</td>\n",
              "      <td>9.897460</td>\n",
              "      <td>Yes</td>\n",
              "      <td>570.51669</td>\n",
              "      <td>No</td>\n",
              "      <td>No</td>\n",
              "      <td>No</td>\n",
              "      <td>No</td>\n",
              "      <td>No</td>\n",
              "      <td>No</td>\n",
              "      <td>Yes</td>\n",
              "    </tr>\n",
              "    <tr>\n",
              "      <th>4</th>\n",
              "      <td>Maize</td>\n",
              "      <td>Asia</td>\n",
              "      <td>30.0000</td>\n",
              "      <td>110.0000</td>\n",
              "      <td>14.6521</td>\n",
              "      <td>2050</td>\n",
              "      <td>1983</td>\n",
              "      <td>MC</td>\n",
              "      <td>CMIP5</td>\n",
              "      <td>1.15</td>\n",
              "      <td>...</td>\n",
              "      <td>-4.675325</td>\n",
              "      <td>Yes</td>\n",
              "      <td>486.53532</td>\n",
              "      <td>No</td>\n",
              "      <td>No</td>\n",
              "      <td>No</td>\n",
              "      <td>No</td>\n",
              "      <td>No</td>\n",
              "      <td>No</td>\n",
              "      <td>No</td>\n",
              "    </tr>\n",
              "  </tbody>\n",
              "</table>\n",
              "<p>5 rows × 23 columns</p>\n",
              "</div>\n",
              "      <button class=\"colab-df-convert\" onclick=\"convertToInteractive('df-20774034-7f48-4bdb-bee9-7e5c6f3a0296')\"\n",
              "              title=\"Convert this dataframe to an interactive table.\"\n",
              "              style=\"display:none;\">\n",
              "        \n",
              "  <svg xmlns=\"http://www.w3.org/2000/svg\" height=\"24px\"viewBox=\"0 0 24 24\"\n",
              "       width=\"24px\">\n",
              "    <path d=\"M0 0h24v24H0V0z\" fill=\"none\"/>\n",
              "    <path d=\"M18.56 5.44l.94 2.06.94-2.06 2.06-.94-2.06-.94-.94-2.06-.94 2.06-2.06.94zm-11 1L8.5 8.5l.94-2.06 2.06-.94-2.06-.94L8.5 2.5l-.94 2.06-2.06.94zm10 10l.94 2.06.94-2.06 2.06-.94-2.06-.94-.94-2.06-.94 2.06-2.06.94z\"/><path d=\"M17.41 7.96l-1.37-1.37c-.4-.4-.92-.59-1.43-.59-.52 0-1.04.2-1.43.59L10.3 9.45l-7.72 7.72c-.78.78-.78 2.05 0 2.83L4 21.41c.39.39.9.59 1.41.59.51 0 1.02-.2 1.41-.59l7.78-7.78 2.81-2.81c.8-.78.8-2.07 0-2.86zM5.41 20L4 18.59l7.72-7.72 1.47 1.35L5.41 20z\"/>\n",
              "  </svg>\n",
              "      </button>\n",
              "      \n",
              "  <style>\n",
              "    .colab-df-container {\n",
              "      display:flex;\n",
              "      flex-wrap:wrap;\n",
              "      gap: 12px;\n",
              "    }\n",
              "\n",
              "    .colab-df-convert {\n",
              "      background-color: #E8F0FE;\n",
              "      border: none;\n",
              "      border-radius: 50%;\n",
              "      cursor: pointer;\n",
              "      display: none;\n",
              "      fill: #1967D2;\n",
              "      height: 32px;\n",
              "      padding: 0 0 0 0;\n",
              "      width: 32px;\n",
              "    }\n",
              "\n",
              "    .colab-df-convert:hover {\n",
              "      background-color: #E2EBFA;\n",
              "      box-shadow: 0px 1px 2px rgba(60, 64, 67, 0.3), 0px 1px 3px 1px rgba(60, 64, 67, 0.15);\n",
              "      fill: #174EA6;\n",
              "    }\n",
              "\n",
              "    [theme=dark] .colab-df-convert {\n",
              "      background-color: #3B4455;\n",
              "      fill: #D2E3FC;\n",
              "    }\n",
              "\n",
              "    [theme=dark] .colab-df-convert:hover {\n",
              "      background-color: #434B5C;\n",
              "      box-shadow: 0px 1px 3px 1px rgba(0, 0, 0, 0.15);\n",
              "      filter: drop-shadow(0px 1px 2px rgba(0, 0, 0, 0.3));\n",
              "      fill: #FFFFFF;\n",
              "    }\n",
              "  </style>\n",
              "\n",
              "      <script>\n",
              "        const buttonEl =\n",
              "          document.querySelector('#df-20774034-7f48-4bdb-bee9-7e5c6f3a0296 button.colab-df-convert');\n",
              "        buttonEl.style.display =\n",
              "          google.colab.kernel.accessAllowed ? 'block' : 'none';\n",
              "\n",
              "        async function convertToInteractive(key) {\n",
              "          const element = document.querySelector('#df-20774034-7f48-4bdb-bee9-7e5c6f3a0296');\n",
              "          const dataTable =\n",
              "            await google.colab.kernel.invokeFunction('convertToInteractive',\n",
              "                                                     [key], {});\n",
              "          if (!dataTable) return;\n",
              "\n",
              "          const docLinkHtml = 'Like what you see? Visit the ' +\n",
              "            '<a target=\"_blank\" href=https://colab.research.google.com/notebooks/data_table.ipynb>data table notebook</a>'\n",
              "            + ' to learn more about interactive tables.';\n",
              "          element.innerHTML = '';\n",
              "          dataTable['output_type'] = 'display_data';\n",
              "          await google.colab.output.renderOutput(dataTable, element);\n",
              "          const docLink = document.createElement('div');\n",
              "          docLink.innerHTML = docLinkHtml;\n",
              "          element.appendChild(docLink);\n",
              "        }\n",
              "      </script>\n",
              "    </div>\n",
              "  </div>\n",
              "  "
            ]
          },
          "metadata": {},
          "execution_count": 4
        }
      ]
    },
    {
      "cell_type": "code",
      "source": [
        "df_crop.isnull().sum()"
      ],
      "metadata": {
        "colab": {
          "base_uri": "https://localhost:8080/"
        },
        "id": "n0049nHHEOOZ",
        "outputId": "92bea61f-14e9-45a6-e844-766b353533ca"
      },
      "execution_count": 5,
      "outputs": [
        {
          "output_type": "execute_result",
          "data": {
            "text/plain": [
              "Crop                                             0\n",
              "Region                                           0\n",
              "latitude                                        37\n",
              "longitude                                       37\n",
              "Current Average Temperature (℃)                 37\n",
              "Future_Mid-point                                 0\n",
              "Baseline_Mid-point                               0\n",
              "Time slice                                       0\n",
              "Scenario source                                  0\n",
              "Local delta T                                 4225\n",
              "Local delta T from 2005                         37\n",
              "Global delta T from pre-industrial period      518\n",
              "Global delta T from 2005                       510\n",
              "Climate impacts per ℃ (%)                        0\n",
              "CO2                                              0\n",
              "CO2 ppm                                        209\n",
              "Fertiliser                                       0\n",
              "Irrigation                                       0\n",
              "Cultivar                                         0\n",
              "Soil organic matter management                   0\n",
              "Planting time                                    0\n",
              "Tillage                                          0\n",
              "Others                                           0\n",
              "dtype: int64"
            ]
          },
          "metadata": {},
          "execution_count": 5
        }
      ]
    },
    {
      "cell_type": "code",
      "source": [
        "df_crop=df_crop.drop(columns=['Local delta T '])\n",
        "df_crop = df_crop.dropna(subset=['latitude', 'longitude','Current Average Temperature (℃)', 'Global delta T from pre-industrial period ', 'Global delta T from 2005','CO2 ppm'])"
      ],
      "metadata": {
        "id": "awdsBWUsTUaM"
      },
      "execution_count": 6,
      "outputs": []
    },
    {
      "cell_type": "code",
      "source": [
        "df_crop['Cultivar'] = df_crop['Cultivar'].str.strip()\n",
        "df_crop['Scenario source'] = df_crop['Scenario source'].str.strip()\n"
      ],
      "metadata": {
        "id": "X55FnZYTeZ4X"
      },
      "execution_count": 7,
      "outputs": []
    },
    {
      "cell_type": "code",
      "source": [
        "df_crop['Scenario source'].value_counts()"
      ],
      "metadata": {
        "colab": {
          "base_uri": "https://localhost:8080/"
        },
        "id": "cGn1KyMrtOLk",
        "outputId": "532ea8ce-6811-49bd-cf2a-b1da08b347d5"
      },
      "execution_count": 8,
      "outputs": [
        {
          "output_type": "execute_result",
          "data": {
            "text/plain": [
              "CMIP5     6766\n",
              "CMIP3      840\n",
              "Others     138\n",
              "Name: Scenario source, dtype: int64"
            ]
          },
          "metadata": {},
          "execution_count": 8
        }
      ]
    },
    {
      "cell_type": "code",
      "source": [
        "df_crop_cat = pd.get_dummies(df_crop, columns=['CO2','Fertiliser', 'Irrigation','Cultivar','Soil organic matter management','Planting time','Tillage','Others'],drop_first=True)\n"
      ],
      "metadata": {
        "id": "87M7F3Fnaaux"
      },
      "execution_count": 9,
      "outputs": []
    },
    {
      "cell_type": "code",
      "source": [
        "# df_crop_cat['Region'] = df_crop_cat['Region'].replace({'Asia':0, 'Europe':1, 'Africa':2, 'North America':3, 'Central and South America':'4','Australasia':5})\n",
        "df_crop_cat['Scenario source'] = df_crop_cat['Scenario source'].replace({'CMIP5':0, 'CMIP3':1, 'Others':2})\n"
      ],
      "metadata": {
        "id": "hAOUg4BWtwXh"
      },
      "execution_count": 10,
      "outputs": []
    },
    {
      "cell_type": "code",
      "source": [
        "df_crop_maize = df_crop_cat[df_crop_cat.Crop == 'Maize']\n",
        "df_crop_rice = df_crop_cat[df_crop_cat.Crop == 'Rice']\n",
        "df_crop_soybean = df_crop_cat[df_crop_cat.Crop == 'Soybean']\n",
        "df_crop_wheat = df_crop_cat[df_crop_cat.Crop == 'Wheat']"
      ],
      "metadata": {
        "id": "DOs2t37JWB_B"
      },
      "execution_count": 11,
      "outputs": []
    },
    {
      "cell_type": "code",
      "source": [
        "df_crop_maize=df_crop_maize.drop(columns=['Crop'])\n",
        "df_crop_rice=df_crop_rice.drop(columns=['Crop'])\n",
        "df_crop_soybean=df_crop_soybean.drop(columns=['Crop'])\n",
        "df_crop_wheat=df_crop_wheat.drop(columns=['Crop'])"
      ],
      "metadata": {
        "id": "0SbQZD7sXY9Z"
      },
      "execution_count": 12,
      "outputs": []
    },
    {
      "cell_type": "markdown",
      "source": [
        "##Data Exploration"
      ],
      "metadata": {
        "id": "9SNqc8uvZBdD"
      }
    },
    {
      "cell_type": "code",
      "source": [
        "df_crop_maize"
      ],
      "metadata": {
        "colab": {
          "base_uri": "https://localhost:8080/",
          "height": 679
        },
        "id": "gj6SZB7SZEHS",
        "outputId": "e35cdc80-d7f6-4caf-daff-a6a312ef2c78"
      },
      "execution_count": null,
      "outputs": [
        {
          "output_type": "execute_result",
          "data": {
            "text/plain": [
              "             Region  latitude  longitude  Current Average Temperature (℃)  \\\n",
              "0              Asia   31.4167    73.0911                          25.4543   \n",
              "1              Asia   31.4167    73.0911                          25.4543   \n",
              "2     North America   43.2705  -104.1080                          10.1912   \n",
              "3     North America   43.2705  -104.1080                          10.1912   \n",
              "4              Asia   30.0000   110.0000                          14.6521   \n",
              "...             ...       ...        ...                              ...   \n",
              "4270  North America   37.0902   -95.7129                          15.5803   \n",
              "4271  North America   37.0902   -95.7129                          15.5803   \n",
              "4272  North America   37.0902   -95.7129                          15.5803   \n",
              "4273  North America   37.0902   -95.7129                          15.5803   \n",
              "4274  North America   37.0902   -95.7129                          15.5803   \n",
              "\n",
              "      Future_Mid-point  Baseline_Mid-point Time slice  Scenario source  \\\n",
              "0                 2054                1995         MC                0   \n",
              "1                 2054                1995         MC                0   \n",
              "2                 2055                1998         MC                0   \n",
              "3                 2055                1998         MC                0   \n",
              "4                 2050                1983         MC                0   \n",
              "...                ...                 ...        ...              ...   \n",
              "4270              2055                1975         MC                2   \n",
              "4271              2025                1975         NF                2   \n",
              "4272              2055                1975         MC                2   \n",
              "4273              2085                1975         EC                2   \n",
              "4274              2085                1975         EC                2   \n",
              "\n",
              "      Local delta T from 2005  Global delta T from pre-industrial period   \\\n",
              "0                    2.440000                                        2.50   \n",
              "1                    2.440000                                        2.50   \n",
              "2                    2.228985                                        2.56   \n",
              "3                    2.228985                                        2.56   \n",
              "4                    0.770000                                        1.46   \n",
              "...                       ...                                         ...   \n",
              "4270                 1.651535                                        2.50   \n",
              "4271                 0.600000                                        1.00   \n",
              "4272                 1.651535                                        2.50   \n",
              "4273                 4.426797                                        5.00   \n",
              "4274                 4.426797                                        5.00   \n",
              "\n",
              "      ...  Climate impacts per ℃ (%)    CO2 ppm  CO2_Yes  Fertiliser_Yes  \\\n",
              "0     ...                  -6.671298  564.31311        1               0   \n",
              "1     ...                   4.765213  564.31311        1               1   \n",
              "2     ...                  -8.868124  570.51669        1               0   \n",
              "3     ...                   9.897460  570.51669        1               0   \n",
              "4     ...                  -4.675325  486.53532        1               0   \n",
              "...   ...                        ...        ...      ...             ...   \n",
              "4270  ...                  -2.099196  560.00000        1               0   \n",
              "4271  ...                  -3.833333  365.00000        1               0   \n",
              "4272  ...                  -2.923881  560.00000        1               0   \n",
              "4273  ...                  -2.710374  750.00000        1               0   \n",
              "4274  ...                  -3.600347  750.00000        1               0   \n",
              "\n",
              "      Irrigation_Yes  Cultivar_Yes  Soil organic matter management_Yes  \\\n",
              "0                  0             0                                   0   \n",
              "1                  0             1                                   0   \n",
              "2                  0             0                                   0   \n",
              "3                  0             0                                   0   \n",
              "4                  0             0                                   0   \n",
              "...              ...           ...                                 ...   \n",
              "4270               0             0                                   0   \n",
              "4271               0             0                                   0   \n",
              "4272               0             0                                   0   \n",
              "4273               0             0                                   0   \n",
              "4274               0             0                                   0   \n",
              "\n",
              "      Planting time_Yes  Tillage_Yes  Others_Yes  \n",
              "0                     0            0           0  \n",
              "1                     1            0           1  \n",
              "2                     0            0           0  \n",
              "3                     0            0           1  \n",
              "4                     0            0           0  \n",
              "...                 ...          ...         ...  \n",
              "4270                  0            0           0  \n",
              "4271                  0            0           0  \n",
              "4272                  0            0           0  \n",
              "4273                  0            0           0  \n",
              "4274                  0            0           0  \n",
              "\n",
              "[4143 rows x 21 columns]"
            ],
            "text/html": [
              "\n",
              "  <div id=\"df-60ec4f03-2a6f-49b0-8d4b-4c21b36efea8\">\n",
              "    <div class=\"colab-df-container\">\n",
              "      <div>\n",
              "<style scoped>\n",
              "    .dataframe tbody tr th:only-of-type {\n",
              "        vertical-align: middle;\n",
              "    }\n",
              "\n",
              "    .dataframe tbody tr th {\n",
              "        vertical-align: top;\n",
              "    }\n",
              "\n",
              "    .dataframe thead th {\n",
              "        text-align: right;\n",
              "    }\n",
              "</style>\n",
              "<table border=\"1\" class=\"dataframe\">\n",
              "  <thead>\n",
              "    <tr style=\"text-align: right;\">\n",
              "      <th></th>\n",
              "      <th>Region</th>\n",
              "      <th>latitude</th>\n",
              "      <th>longitude</th>\n",
              "      <th>Current Average Temperature (℃)</th>\n",
              "      <th>Future_Mid-point</th>\n",
              "      <th>Baseline_Mid-point</th>\n",
              "      <th>Time slice</th>\n",
              "      <th>Scenario source</th>\n",
              "      <th>Local delta T from 2005</th>\n",
              "      <th>Global delta T from pre-industrial period</th>\n",
              "      <th>...</th>\n",
              "      <th>Climate impacts per ℃ (%)</th>\n",
              "      <th>CO2 ppm</th>\n",
              "      <th>CO2_Yes</th>\n",
              "      <th>Fertiliser_Yes</th>\n",
              "      <th>Irrigation_Yes</th>\n",
              "      <th>Cultivar_Yes</th>\n",
              "      <th>Soil organic matter management_Yes</th>\n",
              "      <th>Planting time_Yes</th>\n",
              "      <th>Tillage_Yes</th>\n",
              "      <th>Others_Yes</th>\n",
              "    </tr>\n",
              "  </thead>\n",
              "  <tbody>\n",
              "    <tr>\n",
              "      <th>0</th>\n",
              "      <td>Asia</td>\n",
              "      <td>31.4167</td>\n",
              "      <td>73.0911</td>\n",
              "      <td>25.4543</td>\n",
              "      <td>2054</td>\n",
              "      <td>1995</td>\n",
              "      <td>MC</td>\n",
              "      <td>0</td>\n",
              "      <td>2.440000</td>\n",
              "      <td>2.50</td>\n",
              "      <td>...</td>\n",
              "      <td>-6.671298</td>\n",
              "      <td>564.31311</td>\n",
              "      <td>1</td>\n",
              "      <td>0</td>\n",
              "      <td>0</td>\n",
              "      <td>0</td>\n",
              "      <td>0</td>\n",
              "      <td>0</td>\n",
              "      <td>0</td>\n",
              "      <td>0</td>\n",
              "    </tr>\n",
              "    <tr>\n",
              "      <th>1</th>\n",
              "      <td>Asia</td>\n",
              "      <td>31.4167</td>\n",
              "      <td>73.0911</td>\n",
              "      <td>25.4543</td>\n",
              "      <td>2054</td>\n",
              "      <td>1995</td>\n",
              "      <td>MC</td>\n",
              "      <td>0</td>\n",
              "      <td>2.440000</td>\n",
              "      <td>2.50</td>\n",
              "      <td>...</td>\n",
              "      <td>4.765213</td>\n",
              "      <td>564.31311</td>\n",
              "      <td>1</td>\n",
              "      <td>1</td>\n",
              "      <td>0</td>\n",
              "      <td>1</td>\n",
              "      <td>0</td>\n",
              "      <td>1</td>\n",
              "      <td>0</td>\n",
              "      <td>1</td>\n",
              "    </tr>\n",
              "    <tr>\n",
              "      <th>2</th>\n",
              "      <td>North America</td>\n",
              "      <td>43.2705</td>\n",
              "      <td>-104.1080</td>\n",
              "      <td>10.1912</td>\n",
              "      <td>2055</td>\n",
              "      <td>1998</td>\n",
              "      <td>MC</td>\n",
              "      <td>0</td>\n",
              "      <td>2.228985</td>\n",
              "      <td>2.56</td>\n",
              "      <td>...</td>\n",
              "      <td>-8.868124</td>\n",
              "      <td>570.51669</td>\n",
              "      <td>1</td>\n",
              "      <td>0</td>\n",
              "      <td>0</td>\n",
              "      <td>0</td>\n",
              "      <td>0</td>\n",
              "      <td>0</td>\n",
              "      <td>0</td>\n",
              "      <td>0</td>\n",
              "    </tr>\n",
              "    <tr>\n",
              "      <th>3</th>\n",
              "      <td>North America</td>\n",
              "      <td>43.2705</td>\n",
              "      <td>-104.1080</td>\n",
              "      <td>10.1912</td>\n",
              "      <td>2055</td>\n",
              "      <td>1998</td>\n",
              "      <td>MC</td>\n",
              "      <td>0</td>\n",
              "      <td>2.228985</td>\n",
              "      <td>2.56</td>\n",
              "      <td>...</td>\n",
              "      <td>9.897460</td>\n",
              "      <td>570.51669</td>\n",
              "      <td>1</td>\n",
              "      <td>0</td>\n",
              "      <td>0</td>\n",
              "      <td>0</td>\n",
              "      <td>0</td>\n",
              "      <td>0</td>\n",
              "      <td>0</td>\n",
              "      <td>1</td>\n",
              "    </tr>\n",
              "    <tr>\n",
              "      <th>4</th>\n",
              "      <td>Asia</td>\n",
              "      <td>30.0000</td>\n",
              "      <td>110.0000</td>\n",
              "      <td>14.6521</td>\n",
              "      <td>2050</td>\n",
              "      <td>1983</td>\n",
              "      <td>MC</td>\n",
              "      <td>0</td>\n",
              "      <td>0.770000</td>\n",
              "      <td>1.46</td>\n",
              "      <td>...</td>\n",
              "      <td>-4.675325</td>\n",
              "      <td>486.53532</td>\n",
              "      <td>1</td>\n",
              "      <td>0</td>\n",
              "      <td>0</td>\n",
              "      <td>0</td>\n",
              "      <td>0</td>\n",
              "      <td>0</td>\n",
              "      <td>0</td>\n",
              "      <td>0</td>\n",
              "    </tr>\n",
              "    <tr>\n",
              "      <th>...</th>\n",
              "      <td>...</td>\n",
              "      <td>...</td>\n",
              "      <td>...</td>\n",
              "      <td>...</td>\n",
              "      <td>...</td>\n",
              "      <td>...</td>\n",
              "      <td>...</td>\n",
              "      <td>...</td>\n",
              "      <td>...</td>\n",
              "      <td>...</td>\n",
              "      <td>...</td>\n",
              "      <td>...</td>\n",
              "      <td>...</td>\n",
              "      <td>...</td>\n",
              "      <td>...</td>\n",
              "      <td>...</td>\n",
              "      <td>...</td>\n",
              "      <td>...</td>\n",
              "      <td>...</td>\n",
              "      <td>...</td>\n",
              "      <td>...</td>\n",
              "    </tr>\n",
              "    <tr>\n",
              "      <th>4270</th>\n",
              "      <td>North America</td>\n",
              "      <td>37.0902</td>\n",
              "      <td>-95.7129</td>\n",
              "      <td>15.5803</td>\n",
              "      <td>2055</td>\n",
              "      <td>1975</td>\n",
              "      <td>MC</td>\n",
              "      <td>2</td>\n",
              "      <td>1.651535</td>\n",
              "      <td>2.50</td>\n",
              "      <td>...</td>\n",
              "      <td>-2.099196</td>\n",
              "      <td>560.00000</td>\n",
              "      <td>1</td>\n",
              "      <td>0</td>\n",
              "      <td>0</td>\n",
              "      <td>0</td>\n",
              "      <td>0</td>\n",
              "      <td>0</td>\n",
              "      <td>0</td>\n",
              "      <td>0</td>\n",
              "    </tr>\n",
              "    <tr>\n",
              "      <th>4271</th>\n",
              "      <td>North America</td>\n",
              "      <td>37.0902</td>\n",
              "      <td>-95.7129</td>\n",
              "      <td>15.5803</td>\n",
              "      <td>2025</td>\n",
              "      <td>1975</td>\n",
              "      <td>NF</td>\n",
              "      <td>2</td>\n",
              "      <td>0.600000</td>\n",
              "      <td>1.00</td>\n",
              "      <td>...</td>\n",
              "      <td>-3.833333</td>\n",
              "      <td>365.00000</td>\n",
              "      <td>1</td>\n",
              "      <td>0</td>\n",
              "      <td>0</td>\n",
              "      <td>0</td>\n",
              "      <td>0</td>\n",
              "      <td>0</td>\n",
              "      <td>0</td>\n",
              "      <td>0</td>\n",
              "    </tr>\n",
              "    <tr>\n",
              "      <th>4272</th>\n",
              "      <td>North America</td>\n",
              "      <td>37.0902</td>\n",
              "      <td>-95.7129</td>\n",
              "      <td>15.5803</td>\n",
              "      <td>2055</td>\n",
              "      <td>1975</td>\n",
              "      <td>MC</td>\n",
              "      <td>2</td>\n",
              "      <td>1.651535</td>\n",
              "      <td>2.50</td>\n",
              "      <td>...</td>\n",
              "      <td>-2.923881</td>\n",
              "      <td>560.00000</td>\n",
              "      <td>1</td>\n",
              "      <td>0</td>\n",
              "      <td>0</td>\n",
              "      <td>0</td>\n",
              "      <td>0</td>\n",
              "      <td>0</td>\n",
              "      <td>0</td>\n",
              "      <td>0</td>\n",
              "    </tr>\n",
              "    <tr>\n",
              "      <th>4273</th>\n",
              "      <td>North America</td>\n",
              "      <td>37.0902</td>\n",
              "      <td>-95.7129</td>\n",
              "      <td>15.5803</td>\n",
              "      <td>2085</td>\n",
              "      <td>1975</td>\n",
              "      <td>EC</td>\n",
              "      <td>2</td>\n",
              "      <td>4.426797</td>\n",
              "      <td>5.00</td>\n",
              "      <td>...</td>\n",
              "      <td>-2.710374</td>\n",
              "      <td>750.00000</td>\n",
              "      <td>1</td>\n",
              "      <td>0</td>\n",
              "      <td>0</td>\n",
              "      <td>0</td>\n",
              "      <td>0</td>\n",
              "      <td>0</td>\n",
              "      <td>0</td>\n",
              "      <td>0</td>\n",
              "    </tr>\n",
              "    <tr>\n",
              "      <th>4274</th>\n",
              "      <td>North America</td>\n",
              "      <td>37.0902</td>\n",
              "      <td>-95.7129</td>\n",
              "      <td>15.5803</td>\n",
              "      <td>2085</td>\n",
              "      <td>1975</td>\n",
              "      <td>EC</td>\n",
              "      <td>2</td>\n",
              "      <td>4.426797</td>\n",
              "      <td>5.00</td>\n",
              "      <td>...</td>\n",
              "      <td>-3.600347</td>\n",
              "      <td>750.00000</td>\n",
              "      <td>1</td>\n",
              "      <td>0</td>\n",
              "      <td>0</td>\n",
              "      <td>0</td>\n",
              "      <td>0</td>\n",
              "      <td>0</td>\n",
              "      <td>0</td>\n",
              "      <td>0</td>\n",
              "    </tr>\n",
              "  </tbody>\n",
              "</table>\n",
              "<p>4143 rows × 21 columns</p>\n",
              "</div>\n",
              "      <button class=\"colab-df-convert\" onclick=\"convertToInteractive('df-60ec4f03-2a6f-49b0-8d4b-4c21b36efea8')\"\n",
              "              title=\"Convert this dataframe to an interactive table.\"\n",
              "              style=\"display:none;\">\n",
              "        \n",
              "  <svg xmlns=\"http://www.w3.org/2000/svg\" height=\"24px\"viewBox=\"0 0 24 24\"\n",
              "       width=\"24px\">\n",
              "    <path d=\"M0 0h24v24H0V0z\" fill=\"none\"/>\n",
              "    <path d=\"M18.56 5.44l.94 2.06.94-2.06 2.06-.94-2.06-.94-.94-2.06-.94 2.06-2.06.94zm-11 1L8.5 8.5l.94-2.06 2.06-.94-2.06-.94L8.5 2.5l-.94 2.06-2.06.94zm10 10l.94 2.06.94-2.06 2.06-.94-2.06-.94-.94-2.06-.94 2.06-2.06.94z\"/><path d=\"M17.41 7.96l-1.37-1.37c-.4-.4-.92-.59-1.43-.59-.52 0-1.04.2-1.43.59L10.3 9.45l-7.72 7.72c-.78.78-.78 2.05 0 2.83L4 21.41c.39.39.9.59 1.41.59.51 0 1.02-.2 1.41-.59l7.78-7.78 2.81-2.81c.8-.78.8-2.07 0-2.86zM5.41 20L4 18.59l7.72-7.72 1.47 1.35L5.41 20z\"/>\n",
              "  </svg>\n",
              "      </button>\n",
              "      \n",
              "  <style>\n",
              "    .colab-df-container {\n",
              "      display:flex;\n",
              "      flex-wrap:wrap;\n",
              "      gap: 12px;\n",
              "    }\n",
              "\n",
              "    .colab-df-convert {\n",
              "      background-color: #E8F0FE;\n",
              "      border: none;\n",
              "      border-radius: 50%;\n",
              "      cursor: pointer;\n",
              "      display: none;\n",
              "      fill: #1967D2;\n",
              "      height: 32px;\n",
              "      padding: 0 0 0 0;\n",
              "      width: 32px;\n",
              "    }\n",
              "\n",
              "    .colab-df-convert:hover {\n",
              "      background-color: #E2EBFA;\n",
              "      box-shadow: 0px 1px 2px rgba(60, 64, 67, 0.3), 0px 1px 3px 1px rgba(60, 64, 67, 0.15);\n",
              "      fill: #174EA6;\n",
              "    }\n",
              "\n",
              "    [theme=dark] .colab-df-convert {\n",
              "      background-color: #3B4455;\n",
              "      fill: #D2E3FC;\n",
              "    }\n",
              "\n",
              "    [theme=dark] .colab-df-convert:hover {\n",
              "      background-color: #434B5C;\n",
              "      box-shadow: 0px 1px 3px 1px rgba(0, 0, 0, 0.15);\n",
              "      filter: drop-shadow(0px 1px 2px rgba(0, 0, 0, 0.3));\n",
              "      fill: #FFFFFF;\n",
              "    }\n",
              "  </style>\n",
              "\n",
              "      <script>\n",
              "        const buttonEl =\n",
              "          document.querySelector('#df-60ec4f03-2a6f-49b0-8d4b-4c21b36efea8 button.colab-df-convert');\n",
              "        buttonEl.style.display =\n",
              "          google.colab.kernel.accessAllowed ? 'block' : 'none';\n",
              "\n",
              "        async function convertToInteractive(key) {\n",
              "          const element = document.querySelector('#df-60ec4f03-2a6f-49b0-8d4b-4c21b36efea8');\n",
              "          const dataTable =\n",
              "            await google.colab.kernel.invokeFunction('convertToInteractive',\n",
              "                                                     [key], {});\n",
              "          if (!dataTable) return;\n",
              "\n",
              "          const docLinkHtml = 'Like what you see? Visit the ' +\n",
              "            '<a target=\"_blank\" href=https://colab.research.google.com/notebooks/data_table.ipynb>data table notebook</a>'\n",
              "            + ' to learn more about interactive tables.';\n",
              "          element.innerHTML = '';\n",
              "          dataTable['output_type'] = 'display_data';\n",
              "          await google.colab.output.renderOutput(dataTable, element);\n",
              "          const docLink = document.createElement('div');\n",
              "          docLink.innerHTML = docLinkHtml;\n",
              "          element.appendChild(docLink);\n",
              "        }\n",
              "      </script>\n",
              "    </div>\n",
              "  </div>\n",
              "  "
            ]
          },
          "metadata": {},
          "execution_count": 13
        }
      ]
    },
    {
      "cell_type": "code",
      "source": [
        "df_crop_maize_new = df_crop_maize[df_crop_maize['Climate impacts per ℃ (%)'] > df_crop_maize['Climate impacts per ℃ (%)'].quantile(.15)]\n",
        "df_crop_maize_new = df_crop_maize_new[df_crop_maize_new['Climate impacts per ℃ (%)'] < df_crop_maize_new['Climate impacts per ℃ (%)'].quantile(.90)]"
      ],
      "metadata": {
        "id": "eRdJHHiS_jmX"
      },
      "execution_count": 13,
      "outputs": []
    },
    {
      "cell_type": "code",
      "source": [
        "df_crop_rice_new = df_crop_rice[df_crop_rice['Climate impacts per ℃ (%)'] > df_crop_rice['Climate impacts per ℃ (%)'].quantile(.05)]\n",
        "df_crop_rice_new = df_crop_rice_new[df_crop_rice_new['Climate impacts per ℃ (%)'] < df_crop_rice_new['Climate impacts per ℃ (%)'].quantile(.95)]"
      ],
      "metadata": {
        "id": "JnH12_6UCNxa"
      },
      "execution_count": 14,
      "outputs": []
    },
    {
      "cell_type": "code",
      "source": [
        "df_crop_soybean_new = df_crop_soybean[df_crop_soybean['Climate impacts per ℃ (%)'] > df_crop_soybean['Climate impacts per ℃ (%)'].quantile(.10)]\n",
        "df_crop_soybean_new = df_crop_soybean_new[df_crop_soybean_new['Climate impacts per ℃ (%)'] < df_crop_soybean_new['Climate impacts per ℃ (%)'].quantile(.95)]"
      ],
      "metadata": {
        "id": "8kO9DUcQDEug"
      },
      "execution_count": 15,
      "outputs": []
    },
    {
      "cell_type": "code",
      "source": [
        "df_crop_wheat_new = df_crop_wheat[df_crop_wheat['Climate impacts per ℃ (%)'] > df_crop_wheat['Climate impacts per ℃ (%)'].quantile(.10)]\n",
        "df_crop_wheat_new = df_crop_wheat_new[df_crop_wheat_new['Climate impacts per ℃ (%)'] < df_crop_wheat_new['Climate impacts per ℃ (%)'].quantile(.95)]"
      ],
      "metadata": {
        "id": "9Gwe3xvsDmkM"
      },
      "execution_count": 16,
      "outputs": []
    },
    {
      "cell_type": "code",
      "source": [
        "# df_crop_maize_new = df_crop_maize[df_crop_maize['Climate impacts per ℃ (%)'] < df_crop_maize['Climate impacts per ℃ (%)'].quantile(.05)]"
      ],
      "metadata": {
        "id": "UQJggiBNAlTL"
      },
      "execution_count": null,
      "outputs": []
    },
    {
      "cell_type": "code",
      "source": [
        "list(df_crop_maize.columns)"
      ],
      "metadata": {
        "colab": {
          "base_uri": "https://localhost:8080/"
        },
        "id": "ZdWWMN0pZQhX",
        "outputId": "6330d182-e4c9-4c21-c9aa-67e134bf2996"
      },
      "execution_count": 17,
      "outputs": [
        {
          "output_type": "execute_result",
          "data": {
            "text/plain": [
              "['Region',\n",
              " 'latitude',\n",
              " 'longitude',\n",
              " 'Current Average Temperature (℃)',\n",
              " 'Future_Mid-point',\n",
              " 'Baseline_Mid-point',\n",
              " 'Time slice',\n",
              " 'Scenario source',\n",
              " 'Local delta T from 2005',\n",
              " 'Global delta T from pre-industrial period ',\n",
              " 'Global delta T from 2005',\n",
              " 'Climate impacts per ℃ (%)',\n",
              " 'CO2 ppm',\n",
              " 'CO2_Yes',\n",
              " 'Fertiliser_Yes',\n",
              " 'Irrigation_Yes',\n",
              " 'Cultivar_Yes',\n",
              " 'Soil organic matter management_Yes',\n",
              " 'Planting time_Yes',\n",
              " 'Tillage_Yes',\n",
              " 'Others_Yes']"
            ]
          },
          "metadata": {},
          "execution_count": 17
        }
      ]
    },
    {
      "cell_type": "code",
      "source": [
        "result_mean_yield_m = df_crop_maize_new.groupby(['Region','Time slice'])['Climate impacts per ℃ (%)'].mean()\n",
        "result_mean_deltaT_m = df_crop_maize_new.groupby(['Region', 'Time slice'])['Local delta T from 2005'].mean()\n",
        "\n",
        "print(result_mean_yield_m,'\\n')\n",
        "print(result_mean_deltaT_m) \n",
        "index_m = result_mean_yield_m.index"
      ],
      "metadata": {
        "colab": {
          "base_uri": "https://localhost:8080/"
        },
        "id": "RM2hinfo9qgt",
        "outputId": "f16697a6-0737-458f-f503-83d234021e9e"
      },
      "execution_count": 37,
      "outputs": [
        {
          "output_type": "stream",
          "name": "stdout",
          "text": [
            "Region                     Time slice\n",
            "Africa                     EC           -3.828957\n",
            "                           MC           -2.368123\n",
            "                           NF           -1.634756\n",
            "Asia                       EC           -2.979279\n",
            "                           MC           -2.833353\n",
            "                           NF           -2.108376\n",
            "Central and South America  EC           -2.979433\n",
            "                           MC           -2.263224\n",
            "                           NF           -1.337363\n",
            "Europe                     EC           -0.891893\n",
            "                           MC           -0.585725\n",
            "                           NF            0.022297\n",
            "North America              EC           -3.106523\n",
            "                           MC           -2.148409\n",
            "                           NF           -1.006571\n",
            "Name: Climate impacts per ℃ (%), dtype: float64 \n",
            "\n",
            "Region                     Time slice\n",
            "Africa                     EC            2.738084\n",
            "                           MC            2.120411\n",
            "                           NF            0.788987\n",
            "Asia                       EC            2.588102\n",
            "                           MC            1.794658\n",
            "                           NF            0.860467\n",
            "Central and South America  EC            2.509175\n",
            "                           MC            1.893058\n",
            "                           NF            0.840457\n",
            "Europe                     EC            2.820084\n",
            "                           MC            1.988510\n",
            "                           NF            1.136853\n",
            "North America              EC            3.328515\n",
            "                           MC            1.976520\n",
            "                           NF            1.266455\n",
            "Name: Local delta T from 2005, dtype: float64\n"
          ]
        }
      ]
    },
    {
      "cell_type": "code",
      "source": [
        "index_m.values.tolist()"
      ],
      "metadata": {
        "colab": {
          "base_uri": "https://localhost:8080/"
        },
        "id": "47OWORcIziX-",
        "outputId": "6605b2e5-cc5a-4e68-bdc4-6b917293cfda"
      },
      "execution_count": 19,
      "outputs": [
        {
          "output_type": "execute_result",
          "data": {
            "text/plain": [
              "[('Africa', 'EC'),\n",
              " ('Africa', 'MC'),\n",
              " ('Africa', 'NF'),\n",
              " ('Asia', 'EC'),\n",
              " ('Asia', 'MC'),\n",
              " ('Asia', 'NF'),\n",
              " ('Central and South America', 'EC'),\n",
              " ('Central and South America', 'MC'),\n",
              " ('Central and South America', 'NF'),\n",
              " ('Europe', 'EC'),\n",
              " ('Europe', 'MC'),\n",
              " ('Europe', 'NF'),\n",
              " ('North America', 'EC'),\n",
              " ('North America', 'MC'),\n",
              " ('North America', 'NF')]"
            ]
          },
          "metadata": {},
          "execution_count": 19
        }
      ]
    },
    {
      "cell_type": "code",
      "source": [
        "result_mean_yield_m.values.tolist()"
      ],
      "metadata": {
        "colab": {
          "base_uri": "https://localhost:8080/"
        },
        "id": "jEOx4nPPyreq",
        "outputId": "c3b2438c-911f-4759-fab3-6bbadaf4692b"
      },
      "execution_count": 20,
      "outputs": [
        {
          "output_type": "execute_result",
          "data": {
            "text/plain": [
              "[-3.8289571716561555,\n",
              " -2.3681230806804,\n",
              " -1.6347562675881757,\n",
              " -2.979278660136986,\n",
              " -2.833352984328417,\n",
              " -2.1083764524335544,\n",
              " -2.9794332639019596,\n",
              " -2.263223819924386,\n",
              " -1.337363024968544,\n",
              " -0.8918933343273234,\n",
              " -0.585724577840005,\n",
              " 0.02229660096965253,\n",
              " -3.1065229011818287,\n",
              " -2.14840943880477,\n",
              " -1.0065710035895474]"
            ]
          },
          "metadata": {},
          "execution_count": 20
        }
      ]
    },
    {
      "cell_type": "code",
      "source": [
        "sns.boxplot(data=df_crop_maize_new, x=\"Climate impacts per ℃ (%)\", y=\"Region\").set(title='Region v/s % yield per ℃', xlabel = 'Yield', ylabel = 'Region')"
      ],
      "metadata": {
        "colab": {
          "base_uri": "https://localhost:8080/",
          "height": 347
        },
        "id": "4VjBzakzdIRH",
        "outputId": "a08fec82-140e-4253-ec21-6c0497a143c7"
      },
      "execution_count": null,
      "outputs": [
        {
          "output_type": "execute_result",
          "data": {
            "text/plain": [
              "[Text(0, 0.5, 'Region'),\n",
              " Text(0.5, 0, 'Yield'),\n",
              " Text(0.5, 1.0, 'Region v/s % yield per ℃')]"
            ]
          },
          "metadata": {},
          "execution_count": 23
        },
        {
          "output_type": "display_data",
          "data": {
            "text/plain": [
              "<Figure size 432x288 with 1 Axes>"
            ],
            "image/png": "[encoded data removed]"
          },
          "metadata": {
            "needs_background": "light"
          }
        }
      ]
    },
    {
      "cell_type": "code",
      "source": [
        "result_mean_yield_r = df_crop_rice_new.groupby(['Region','Time slice'])['Climate impacts per ℃ (%)'].mean()\n",
        "result_mean_deltaT_r = df_crop_rice_new.groupby(['Region','Time slice'])['Local delta T from 2005'].mean()\n",
        "\n",
        "print(result_mean_yield_r,'\\n')\n",
        "print(result_mean_deltaT_r)\n",
        "index_r = result_mean_yield_r.index"
      ],
      "metadata": {
        "colab": {
          "base_uri": "https://localhost:8080/"
        },
        "id": "bqeEaArq-qKV",
        "outputId": "19060c33-8397-4fc5-cff4-51d8558ee859"
      },
      "execution_count": 39,
      "outputs": [
        {
          "output_type": "stream",
          "name": "stdout",
          "text": [
            "Region                     Time slice\n",
            "Africa                     EC           -0.788205\n",
            "                           MC           -1.048465\n",
            "                           NF            1.813210\n",
            "Asia                       EC           -1.568276\n",
            "                           MC           -0.266058\n",
            "                           NF           -1.262193\n",
            "Central and South America  EC            2.916791\n",
            "                           MC            3.723860\n",
            "                           NF            3.752639\n",
            "Europe                     EC            0.493446\n",
            "                           MC            3.485115\n",
            "                           NF           -0.572974\n",
            "North America              EC           -5.725193\n",
            "                           MC           -5.051752\n",
            "                           NF           -5.066355\n",
            "Name: Climate impacts per ℃ (%), dtype: float64 \n",
            "\n",
            "Region                     Time slice\n",
            "Africa                     EC            3.400202\n",
            "                           MC            1.859407\n",
            "                           NF            0.749745\n",
            "Asia                       EC            2.716039\n",
            "                           MC            1.635185\n",
            "                           NF            0.831523\n",
            "Central and South America  EC            2.602861\n",
            "                           MC            1.734561\n",
            "                           NF            0.730569\n",
            "Europe                     EC            2.119413\n",
            "                           MC            0.708588\n",
            "                           NF            0.741382\n",
            "North America              EC            3.056211\n",
            "                           MC            2.010571\n",
            "                           NF            1.138470\n",
            "Name: Local delta T from 2005, dtype: float64\n"
          ]
        }
      ]
    },
    {
      "cell_type": "code",
      "source": [
        "sns.boxplot(data=df_crop_rice_new, x=\"Climate impacts per ℃ (%)\", y=\"Region\").set(title='Region v/s % yield per ℃', xlabel = 'Yield', ylabel = 'Region')"
      ],
      "metadata": {
        "colab": {
          "base_uri": "https://localhost:8080/",
          "height": 347
        },
        "id": "AdfB8shc5h5M",
        "outputId": "b14a0d07-cbda-4e60-9c14-50197ed34136"
      },
      "execution_count": null,
      "outputs": [
        {
          "output_type": "execute_result",
          "data": {
            "text/plain": [
              "[Text(0, 0.5, 'Region'),\n",
              " Text(0.5, 0, 'Yield'),\n",
              " Text(0.5, 1.0, 'Region v/s % yield per ℃')]"
            ]
          },
          "metadata": {},
          "execution_count": 25
        },
        {
          "output_type": "display_data",
          "data": {
            "text/plain": [
              "<Figure size 432x288 with 1 Axes>"
            ],
            "image/png": "[encoded data removed]"
          },
          "metadata": {
            "needs_background": "light"
          }
        }
      ]
    },
    {
      "cell_type": "code",
      "source": [
        "result_mean_yield_s = df_crop_soybean_new.groupby(['Region','Time slice'])['Climate impacts per ℃ (%)'].mean()\n",
        "result_mean_deltaT_s = df_crop_soybean_new.groupby(['Region','Time slice'])['Local delta T from 2005'].mean()\n",
        "\n",
        "print(result_mean_yield_s,'\\n')\n",
        "print(result_mean_deltaT_s)\n",
        "index_s = result_mean_yield_s.index"
      ],
      "metadata": {
        "colab": {
          "base_uri": "https://localhost:8080/"
        },
        "id": "kE47x6ED-w8K",
        "outputId": "225ea4df-9fdf-4917-9269-330e961cf012"
      },
      "execution_count": 41,
      "outputs": [
        {
          "output_type": "stream",
          "name": "stdout",
          "text": [
            "Region                     Time slice\n",
            "Asia                       EC            -9.703775\n",
            "                           MC            -8.945809\n",
            "                           NF            -2.567625\n",
            "Central and South America  EC           -20.100921\n",
            "                           MC           -21.629944\n",
            "                           NF           -28.350457\n",
            "North America              EC            -7.956194\n",
            "                           MC            -5.894619\n",
            "                           NF            -6.855642\n",
            "Name: Climate impacts per ℃ (%), dtype: float64 \n",
            "\n",
            "Region                     Time slice\n",
            "Asia                       EC            2.797733\n",
            "                           MC            1.517985\n",
            "                           NF            1.026981\n",
            "Central and South America  EC            2.530131\n",
            "                           MC            1.095654\n",
            "                           NF            0.742931\n",
            "North America              EC            3.585521\n",
            "                           MC            1.750358\n",
            "                           NF            1.180315\n",
            "Name: Local delta T from 2005, dtype: float64\n"
          ]
        }
      ]
    },
    {
      "cell_type": "code",
      "source": [
        "sns.boxplot(data=df_crop_soybean_new, x=\"Climate impacts per ℃ (%)\", y=\"Region\").set(title='Region v/s % yield per ℃', xlabel = 'Yield', ylabel = 'Region')"
      ],
      "metadata": {
        "colab": {
          "base_uri": "https://localhost:8080/",
          "height": 347
        },
        "id": "HgJYopPX9UR8",
        "outputId": "758b78ab-18e5-418d-98bf-bca9b10cc42e"
      },
      "execution_count": null,
      "outputs": [
        {
          "output_type": "execute_result",
          "data": {
            "text/plain": [
              "[Text(0, 0.5, 'Region'),\n",
              " Text(0.5, 0, 'Yield'),\n",
              " Text(0.5, 1.0, 'Region v/s % yield per ℃')]"
            ]
          },
          "metadata": {},
          "execution_count": 27
        },
        {
          "output_type": "display_data",
          "data": {
            "text/plain": [
              "<Figure size 432x288 with 1 Axes>"
            ],
            "image/png": "[encoded data removed]"
          },
          "metadata": {
            "needs_background": "light"
          }
        }
      ]
    },
    {
      "cell_type": "code",
      "source": [
        "result_mean_yield_w = df_crop_wheat_new.groupby(['Region','Time slice'])['Climate impacts per ℃ (%)'].mean()\n",
        "result_mean_deltaT_w = df_crop_wheat_new.groupby(['Region','Time slice'])['Local delta T from 2005'].mean()\n",
        "\n",
        "print(result_mean_yield_w,'\\n')\n",
        "print(result_mean_deltaT_w)\n",
        "index_w = result_mean_yield_w.index"
      ],
      "metadata": {
        "colab": {
          "base_uri": "https://localhost:8080/"
        },
        "id": "pHcJ1Cjm-1PJ",
        "outputId": "98eb625a-0a43-4d40-96a6-edf81556c6a8"
      },
      "execution_count": 43,
      "outputs": [
        {
          "output_type": "stream",
          "name": "stdout",
          "text": [
            "Region                     Time slice\n",
            "Africa                     EC           -4.409069\n",
            "                           MC           -3.835718\n",
            "                           NF            2.355683\n",
            "Asia                       EC           -1.858262\n",
            "                           MC           -1.713009\n",
            "                           NF           -3.334087\n",
            "Australasia                EC           -5.992802\n",
            "                           MC           -5.238154\n",
            "                           NF           -3.419391\n",
            "Central and South America  EC           -7.069706\n",
            "                           MC           -6.773468\n",
            "                           NF           -4.911317\n",
            "Europe                     EC           -3.049332\n",
            "                           MC           -5.013277\n",
            "                           NF           -4.500415\n",
            "North America              EC            1.505597\n",
            "                           MC            0.663884\n",
            "                           NF           -4.748460\n",
            "Name: Climate impacts per ℃ (%), dtype: float64 \n",
            "\n",
            "Region                     Time slice\n",
            "Africa                     EC            2.973608\n",
            "                           MC            1.815321\n",
            "                           NF            0.817885\n",
            "Asia                       EC            2.889031\n",
            "                           MC            1.851634\n",
            "                           NF            0.909388\n",
            "Australasia                EC            2.151528\n",
            "                           MC            1.355931\n",
            "                           NF            0.755076\n",
            "Central and South America  EC            2.794497\n",
            "                           MC            1.729221\n",
            "                           NF            0.794621\n",
            "Europe                     EC            2.847944\n",
            "                           MC            1.622883\n",
            "                           NF            1.049150\n",
            "North America              EC            2.714774\n",
            "                           MC            1.812507\n",
            "                           NF            1.183275\n",
            "Name: Local delta T from 2005, dtype: float64\n"
          ]
        }
      ]
    },
    {
      "cell_type": "code",
      "source": [
        "sns.boxplot(data=df_crop_wheat_new, x=\"Climate impacts per ℃ (%)\", y=\"Region\").set(title='Region v/s % yield per ℃', xlabel = 'Yield', ylabel = 'Region')"
      ],
      "metadata": {
        "colab": {
          "base_uri": "https://localhost:8080/",
          "height": 347
        },
        "id": "97y2j6hE9HuV",
        "outputId": "394bb0b5-bf20-4dda-f00d-9f071cc16c3c"
      },
      "execution_count": null,
      "outputs": [
        {
          "output_type": "execute_result",
          "data": {
            "text/plain": [
              "[Text(0, 0.5, 'Region'),\n",
              " Text(0.5, 0, 'Yield'),\n",
              " Text(0.5, 1.0, 'Region v/s % yield per ℃')]"
            ]
          },
          "metadata": {},
          "execution_count": 29
        },
        {
          "output_type": "display_data",
          "data": {
            "text/plain": [
              "<Figure size 432x288 with 1 Axes>"
            ],
            "image/png": "[encoded data removed]"
          },
          "metadata": {
            "needs_background": "light"
          }
        }
      ]
    },
    {
      "cell_type": "markdown",
      "source": [
        "<!-- ### Agriculture in 2050's:\n",
        "Asia -> Decrease in yield of all 4 crops especially Soybean and Maize by 27% and 15% respectively <br>\n",
        "Africa -> Decrease in yield of 3 crops (no soybean data) especially Wheat and Maize by 33% and 14% respectively <br>\n",
        "Australasia -> Decrease in yield of Wheat by 14% <br>\n",
        "Central and South America -> Decrease in yield of Wheat, Soybean and Maize by 34%, 31% and 18% and an increase of 6% in yield of Rice <br>\n",
        "Europe -> A decrease of 7% in yield of Wheat and an increase of 7% in yield of Rice <br>\n",
        "North America -> Marginal increase in yield of Wheat and a decrease of yield in Rice, Soybean and Maize by 11%, 13% and 6% repectively -->\n"
      ],
      "metadata": {
        "id": "P2zMjW7dLkXt"
      }
    },
    {
      "cell_type": "markdown",
      "source": [
        "#### Extrapolating all scenario's for 2050's (since it is the average future mid-point for the dataset)\n",
        "\n",
        "\n"
      ],
      "metadata": {
        "id": "bI6wNSZULOjV"
      }
    },
    {
      "cell_type": "code",
      "source": [
        "def calc2(yield_c,delta,index):\n",
        "  d = {}\n",
        "  for i in range(len(yield_c)):\n",
        "    val = ((1+(yield_c[i]/100))**(delta[i]))*100\n",
        "    if(val>100):\n",
        "      d[index[i]] = '{}% increase'.format(round(val-100),2)\n",
        "    else:\n",
        "      d[index[i]] = '{}% decrease'.format(round(100-val),2)\n",
        "  \n",
        "  return d"
      ],
      "metadata": {
        "id": "ClPizldLMyAv"
      },
      "execution_count": 24,
      "outputs": []
    },
    {
      "cell_type": "code",
      "source": [
        "result_mean_yield_m = df_crop_maize_new.groupby('Region')['Climate impacts per ℃ (%)'].mean()\n",
        "result_mean_deltaT_m = df_crop_maize_new.groupby('Region')['Local delta T from 2005'].mean()\n",
        "\n",
        "print(result_mean_yield_m,'\\n')\n",
        "print(result_mean_deltaT_m) \n",
        "index_m = result_mean_yield_m.index\n",
        "l = result_mean_yield_m.values.tolist()\n",
        "T = result_mean_deltaT_m.values.tolist()\n",
        "index = index_m.values.tolist()\n",
        "print(\"Yield of Maize as compared to 2005:\\n\",calc2(l,T,index))"
      ],
      "metadata": {
        "colab": {
          "base_uri": "https://localhost:8080/"
        },
        "id": "59C1A0VVE0ry",
        "outputId": "0fb6499c-e904-4a5e-e1f6-bb72c97d3f44"
      },
      "execution_count": 25,
      "outputs": [
        {
          "output_type": "stream",
          "name": "stdout",
          "text": [
            "Region\n",
            "Africa                      -2.583881\n",
            "Asia                        -2.654355\n",
            "Central and South America   -2.188679\n",
            "Europe                      -0.475370\n",
            "North America               -2.174140\n",
            "Name: Climate impacts per ℃ (%), dtype: float64 \n",
            "\n",
            "Region\n",
            "Africa                       1.875098\n",
            "Asia                         1.760714\n",
            "Central and South America    1.745556\n",
            "Europe                       1.963978\n",
            "North America                2.245498\n",
            "Name: Local delta T from 2005, dtype: float64\n",
            "Yield of Maize as compared to 2005:\n",
            " {'Africa': '5% decrease', 'Asia': '5% decrease', 'Central and South America': '4% decrease', 'Europe': '1% decrease', 'North America': '5% decrease'}\n"
          ]
        }
      ]
    },
    {
      "cell_type": "code",
      "source": [
        "result_mean_yield_r = df_crop_rice_new.groupby('Region')['Climate impacts per ℃ (%)'].mean()\n",
        "result_mean_deltaT_r = df_crop_rice_new.groupby('Region')['Local delta T from 2005'].mean()\n",
        "\n",
        "# print(result_mean_yield_m,'\\n')\n",
        "# print(result_mean_deltaT_m) \n",
        "index_r = result_mean_yield_r.index\n",
        "l = result_mean_yield_r.values.tolist()\n",
        "T = result_mean_deltaT_r.values.tolist()\n",
        "index = index_r.values.tolist()\n",
        "print(\"Yield of Rice as compared to 2005:\\n\",calc2(l,T,index))"
      ],
      "metadata": {
        "colab": {
          "base_uri": "https://localhost:8080/"
        },
        "id": "rDyksWhIFc5Q",
        "outputId": "ee435bcb-7fa6-4c9f-820b-ed6c9b1615ff"
      },
      "execution_count": 26,
      "outputs": [
        {
          "output_type": "stream",
          "name": "stdout",
          "text": [
            "Yield of Rice as compared to 2005:\n",
            " {'Africa': '1% decrease', 'Asia': '2% decrease', 'Central and South America': '6% increase', 'Europe': '0% increase', 'North America': '11% decrease'}\n"
          ]
        }
      ]
    },
    {
      "cell_type": "code",
      "source": [
        "result_mean_yield_s = df_crop_soybean_new.groupby('Region')['Climate impacts per ℃ (%)'].mean()\n",
        "result_mean_deltaT_s = df_crop_soybean_new.groupby('Region')['Local delta T from 2005'].mean()\n",
        "\n",
        "# print(result_mean_yield_m,'\\n')\n",
        "# print(result_mean_deltaT_m) \n",
        "index_s = result_mean_yield_s.index\n",
        "l = result_mean_yield_s.values.tolist()\n",
        "T = result_mean_deltaT_s.values.tolist()\n",
        "index = index_s.values.tolist()\n",
        "print(\"Yield of Soybean as compared to 2005:\\n\",calc2(l,T,index))"
      ],
      "metadata": {
        "colab": {
          "base_uri": "https://localhost:8080/"
        },
        "id": "AjhNibCPFsRX",
        "outputId": "dfe1d579-a85d-4d29-eb33-302f07c1f190"
      },
      "execution_count": 27,
      "outputs": [
        {
          "output_type": "stream",
          "name": "stdout",
          "text": [
            "Yield of Soybean as compared to 2005:\n",
            " {'Asia': '13% decrease', 'Central and South America': '31% decrease', 'North America': '13% decrease'}\n"
          ]
        }
      ]
    },
    {
      "cell_type": "code",
      "source": [
        "result_mean_yield_w = df_crop_wheat_new.groupby('Region')['Climate impacts per ℃ (%)'].mean()\n",
        "result_mean_deltaT_w = df_crop_wheat_new.groupby('Region')['Local delta T from 2005'].mean()\n",
        "\n",
        "# print(result_mean_yield_m,'\\n')\n",
        "# print(result_mean_deltaT_m) \n",
        "index_w = result_mean_yield_w.index\n",
        "l = result_mean_yield_w.values.tolist()\n",
        "T = result_mean_deltaT_w.values.tolist()\n",
        "index = index_w.values.tolist()\n",
        "print(\"Yield of Wheat as compared to 2005:\\n\",calc2(l,T,index))"
      ],
      "metadata": {
        "colab": {
          "base_uri": "https://localhost:8080/"
        },
        "id": "KYzPS7L1GBNJ",
        "outputId": "17cafdb1-14b9-4169-c22d-5a79c9c6686a"
      },
      "execution_count": 28,
      "outputs": [
        {
          "output_type": "stream",
          "name": "stdout",
          "text": [
            "Yield of Wheat as compared to 2005:\n",
            " {'Africa': '6% decrease', 'Asia': '4% decrease', 'Australasia': '10% decrease', 'Central and South America': '11% decrease', 'Europe': '8% decrease', 'North America': '1% increase'}\n"
          ]
        }
      ]
    },
    {
      "cell_type": "markdown",
      "source": [
        "###Time slice based calculation"
      ],
      "metadata": {
        "id": "QOSyXA21KSvu"
      }
    },
    {
      "cell_type": "code",
      "source": [
        "def calc(yield_c,delta,index):\n",
        "  d = {}\n",
        "  for i in range(int(len(yield_c)/3)):\n",
        "    d2 = {}\n",
        "    for j in range(3):\n",
        "      val = ((1+(yield_c[3*i+j]/100))**(delta[3*i+j]))*100\n",
        "      if(val>100):\n",
        "        d2[index[3*i+j][1]] = '{}% increase'.format(round(val-100),2)\n",
        "      else:\n",
        "        d2[index[3*i+j][1]] = '{}% decrease'.format(round(100-val),2)\n",
        "    d[index[3*i+j][0]] = d2\n",
        "  \n",
        "  return d"
      ],
      "metadata": {
        "id": "DMHpBGJmzNGF"
      },
      "execution_count": 34,
      "outputs": []
    },
    {
      "cell_type": "code",
      "source": [
        "l"
      ],
      "metadata": {
        "colab": {
          "base_uri": "https://localhost:8080/"
        },
        "id": "A0PjeWi_vbXa",
        "outputId": "fd54d694-5bed-4005-e794-d19d8dd0142b"
      },
      "execution_count": 36,
      "outputs": [
        {
          "output_type": "execute_result",
          "data": {
            "text/plain": [
              "[-3.066717078523092,\n",
              " -2.0868041852360566,\n",
              " -5.675951809069354,\n",
              " -6.232901569030236,\n",
              " -4.268417501059631,\n",
              " 0.6611407634140409]"
            ]
          },
          "metadata": {},
          "execution_count": 36
        }
      ]
    },
    {
      "cell_type": "code",
      "source": [
        "l = result_mean_yield_w.values.tolist()\n",
        "T = result_mean_deltaT_w.values.tolist()\n",
        "index = index_w.values.tolist()\n",
        "print(\"Yield of Wheat as compared to 2005:\\n\",calc(l,T,index))"
      ],
      "metadata": {
        "colab": {
          "base_uri": "https://localhost:8080/"
        },
        "id": "v2BhQ_VCMYZS",
        "outputId": "5dc73fd7-0e7c-4a2b-b12a-8cd236ce8c1f"
      },
      "execution_count": 44,
      "outputs": [
        {
          "output_type": "stream",
          "name": "stdout",
          "text": [
            "Yield of Wheat as compared to 2005:\n",
            " {'Africa': {'EC': '13% decrease', 'MC': '7% decrease', 'NF': '2% increase'}, 'Asia': {'EC': '5% decrease', 'MC': '3% decrease', 'NF': '3% decrease'}, 'Australasia': {'EC': '12% decrease', 'MC': '7% decrease', 'NF': '3% decrease'}, 'Central and South America': {'EC': '19% decrease', 'MC': '11% decrease', 'NF': '4% decrease'}, 'Europe': {'EC': '8% decrease', 'MC': '8% decrease', 'NF': '5% decrease'}, 'North America': {'EC': '4% increase', 'MC': '1% increase', 'NF': '6% decrease'}}\n"
          ]
        }
      ]
    },
    {
      "cell_type": "code",
      "source": [
        "l = result_mean_yield_r.values.tolist()\n",
        "T = result_mean_deltaT_r.values.tolist()\n",
        "index = index_r.values.tolist()\n",
        "print(\"Yield of Rice as compared to 2005:\\n\",calc(l,T,index))"
      ],
      "metadata": {
        "colab": {
          "base_uri": "https://localhost:8080/"
        },
        "id": "XMouPkP0SYZA",
        "outputId": "7e467397-51fd-47ec-f928-1c2f742ac779"
      },
      "execution_count": 40,
      "outputs": [
        {
          "output_type": "stream",
          "name": "stdout",
          "text": [
            "Yield of Rice as compared to 2005:\n",
            " {'Africa': {'EC': '3% decrease', 'MC': '2% decrease', 'NF': '1% increase'}, 'Asia': {'EC': '4% decrease', 'MC': '0% decrease', 'NF': '1% decrease'}, 'Central and South America': {'EC': '8% increase', 'MC': '7% increase', 'NF': '3% increase'}, 'Europe': {'EC': '1% increase', 'MC': '2% increase', 'NF': '0% decrease'}, 'North America': {'EC': '16% decrease', 'MC': '10% decrease', 'NF': '6% decrease'}}\n"
          ]
        }
      ]
    },
    {
      "cell_type": "code",
      "source": [
        "l = result_mean_yield_s.values.tolist()\n",
        "T = result_mean_deltaT_s.values.tolist()\n",
        "index = index_s.values.tolist()\n",
        "print(\"Yield of Soybean as compared to 2005:\\n\",calc(l,T,index))"
      ],
      "metadata": {
        "colab": {
          "base_uri": "https://localhost:8080/"
        },
        "id": "anQB1nlSStNK",
        "outputId": "6b62a2a9-3950-4228-c523-cb175ae18dad"
      },
      "execution_count": 42,
      "outputs": [
        {
          "output_type": "stream",
          "name": "stdout",
          "text": [
            "Yield of Soybean as compared to 2005:\n",
            " {'Asia': {'EC': '25% decrease', 'MC': '13% decrease', 'NF': '3% decrease'}, 'Central and South America': {'EC': '43% decrease', 'MC': '23% decrease', 'NF': '22% decrease'}, 'North America': {'EC': '26% decrease', 'MC': '10% decrease', 'NF': '8% decrease'}}\n"
          ]
        }
      ]
    },
    {
      "cell_type": "code",
      "source": [
        "l = result_mean_yield_m.values.tolist()\n",
        "T = result_mean_deltaT_m.values.tolist()\n",
        "index = index_m.values.tolist()\n",
        "print(\"Yield of Maize as compared to 2005:\\n\",calc(l,T,index))"
      ],
      "metadata": {
        "colab": {
          "base_uri": "https://localhost:8080/"
        },
        "id": "UBZAnpjoSy_N",
        "outputId": "3299c5d2-62db-4cba-c414-5bb39f83efd8"
      },
      "execution_count": 38,
      "outputs": [
        {
          "output_type": "stream",
          "name": "stdout",
          "text": [
            "Yield of Maize as compared to 2005:\n",
            " {'Africa': {'EC': '10% decrease', 'MC': '5% decrease', 'NF': '1% decrease'}, 'Asia': {'EC': '8% decrease', 'MC': '5% decrease', 'NF': '2% decrease'}, 'Central and South America': {'EC': '7% decrease', 'MC': '4% decrease', 'NF': '1% decrease'}, 'Europe': {'EC': '2% decrease', 'MC': '1% decrease', 'NF': '0% increase'}, 'North America': {'EC': '10% decrease', 'MC': '4% decrease', 'NF': '1% decrease'}}\n"
          ]
        }
      ]
    },
    {
      "cell_type": "code",
      "source": [],
      "metadata": {
        "id": "OjH12r-rS9Ne"
      },
      "execution_count": null,
      "outputs": []
    }
  ]
}